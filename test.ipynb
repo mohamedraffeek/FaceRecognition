{
 "cells": [
  {
   "cell_type": "code",
   "execution_count": 25,
   "metadata": {},
   "outputs": [],
   "source": [
    "import numpy as np\n",
    "import imageio as iio\n",
    "import DatasetSplitter\n",
    "from sklearn.neighbors import KNeighborsClassifier\n",
    "from sklearn.metrics import accuracy_score\n",
    "import matplotlib.pyplot as plt\n",
    "from sklearn.decomposition import PCA as pca_test\n"
   ]
  },
  {
   "cell_type": "code",
   "execution_count": 26,
   "metadata": {},
   "outputs": [
    {
     "ename": "IndexError",
     "evalue": "list index out of range",
     "output_type": "error",
     "traceback": [
      "\u001b[0;31m---------------------------------------------------------------------------\u001b[0m",
      "\u001b[0;31mIndexError\u001b[0m                                Traceback (most recent call last)",
      "Cell \u001b[0;32mIn[26], line 1\u001b[0m\n\u001b[0;32m----> 1\u001b[0m trainingData, trainingLabels, testingData, testingLabels \u001b[38;5;241m=\u001b[39m \u001b[43mDatasetSplitter\u001b[49m\u001b[38;5;241;43m.\u001b[39;49m\u001b[43mdifferentSplitData\u001b[49m\u001b[43m(\u001b[49m\u001b[43m)\u001b[49m\n\u001b[1;32m      2\u001b[0m trainingData \u001b[38;5;241m=\u001b[39m np\u001b[38;5;241m.\u001b[39marray(trainingData)\n\u001b[1;32m      3\u001b[0m \u001b[38;5;28mprint\u001b[39m(trainingData\u001b[38;5;241m.\u001b[39mshape)\n",
      "File \u001b[0;32m~/CSED_25/Year_3/term_2/PR-ML/my_labs/lab_1/code/FaceRecognition/DatasetSplitter.py:33\u001b[0m, in \u001b[0;36mdifferentSplitData\u001b[0;34m()\u001b[0m\n\u001b[1;32m     31\u001b[0m         trainingLabels\u001b[38;5;241m.\u001b[39mappend(labelVector[ind])\n\u001b[1;32m     32\u001b[0m     \u001b[38;5;28;01melse\u001b[39;00m:\n\u001b[0;32m---> 33\u001b[0m         testingData\u001b[38;5;241m.\u001b[39mappend(\u001b[43mdataMatrix\u001b[49m\u001b[43m[\u001b[49m\u001b[43mind\u001b[49m\u001b[43m]\u001b[49m)\n\u001b[1;32m     34\u001b[0m         testingLabels\u001b[38;5;241m.\u001b[39mappend(labelVector[ind])\n\u001b[1;32m     35\u001b[0m i \u001b[38;5;241m+\u001b[39m\u001b[38;5;241m=\u001b[39m j \n",
      "\u001b[0;31mIndexError\u001b[0m: list index out of range"
     ]
    }
   ],
   "source": [
    "trainingData, trainingLabels, testingData, testingLabels = DatasetSplitter.differentSplitData()\n",
    "trainingData = np.array(trainingData)\n",
    "print(trainingData.shape)"
   ]
  }
 ],
 "metadata": {
  "kernelspec": {
   "display_name": ".venv",
   "language": "python",
   "name": "python3"
  },
  "language_info": {
   "codemirror_mode": {
    "name": "ipython",
    "version": 3
   },
   "file_extension": ".py",
   "mimetype": "text/x-python",
   "name": "python",
   "nbconvert_exporter": "python",
   "pygments_lexer": "ipython3",
   "version": "3.11.6"
  }
 },
 "nbformat": 4,
 "nbformat_minor": 2
}
