{
 "cells": [
  {
   "cell_type": "code",
   "execution_count": 1,
   "metadata": {},
   "outputs": [],
   "source": [
    "import numpy as np\n",
    "import imageio as iio\n",
    "import DatasetSplitter\n",
    "from sklearn.neighbors import KNeighborsClassifier\n",
    "from sklearn.metrics import accuracy_score\n",
    "import matplotlib.pyplot as plt\n",
    "from sklearn.decomposition import PCA as pca_test\n"
   ]
  },
  {
   "cell_type": "code",
   "execution_count": 17,
   "metadata": {},
   "outputs": [],
   "source": [
    "def covariance(D):\n",
    "    global mean_vector \n",
    "    mean_vector = np.mean(D, axis=0)\n",
    "    Z = D - mean_vector\n",
    "    cov = (1/(len(D) - 1)) * (Z.T @ Z) \n",
    "    return cov"
   ]
  },
  {
   "cell_type": "code",
   "execution_count": 20,
   "metadata": {},
   "outputs": [
    {
     "name": "stdout",
     "output_type": "stream",
     "text": [
      "[[1292.76295518 1286.85539216 1286.2359944  ...  -84.04761905\n",
      "   -53.71988796   -8.68032213]\n",
      " [1286.85539216 1293.74782913 1284.91666667 ...  -95.32661064\n",
      "   -57.25602241  -14.47359944]\n",
      " [1286.2359944  1284.91666667 1293.16946779 ...  -62.70028011\n",
      "   -28.22128852    8.11414566]\n",
      " ...\n",
      " [ -84.04761905  -95.32661064  -62.70028011 ... 2188.48627451\n",
      "  1948.49971989 1773.35910364]\n",
      " [ -53.71988796  -57.25602241  -28.22128852 ... 1948.49971989\n",
      "  1986.57030812 1896.56246499]\n",
      " [  -8.68032213  -14.47359944    8.11414566 ... 1773.35910364\n",
      "  1896.56246499 2078.52598039]]\n"
     ]
    }
   ],
   "source": [
    "trainingData, trainingLabels, testingData, testingLabels = DatasetSplitter.differentSplitData()\n",
    "trainingData = np.array(testingData)\n",
    "print(np.cov(trainingData,  rowvar=False).T)"
   ]
  },
  {
   "cell_type": "code",
   "execution_count": 18,
   "metadata": {},
   "outputs": [
    {
     "name": "stdout",
     "output_type": "stream",
     "text": [
      "[[1292.76295518 1286.85539216 1286.2359944  ...  -84.04761905\n",
      "   -53.71988796   -8.68032213]\n",
      " [1286.85539216 1293.74782913 1284.91666667 ...  -95.32661064\n",
      "   -57.25602241  -14.47359944]\n",
      " [1286.2359944  1284.91666667 1293.16946779 ...  -62.70028011\n",
      "   -28.22128852    8.11414566]\n",
      " ...\n",
      " [ -84.04761905  -95.32661064  -62.70028011 ... 2188.48627451\n",
      "  1948.49971989 1773.35910364]\n",
      " [ -53.71988796  -57.25602241  -28.22128852 ... 1948.49971989\n",
      "  1986.57030812 1896.56246499]\n",
      " [  -8.68032213  -14.47359944    8.11414566 ... 1773.35910364\n",
      "  1896.56246499 2078.52598039]]\n"
     ]
    }
   ],
   "source": [
    "print(covariance(trainingData))"
   ]
  }
 ],
 "metadata": {
  "kernelspec": {
   "display_name": ".venv",
   "language": "python",
   "name": "python3"
  },
  "language_info": {
   "codemirror_mode": {
    "name": "ipython",
    "version": 3
   },
   "file_extension": ".py",
   "mimetype": "text/x-python",
   "name": "python",
   "nbconvert_exporter": "python",
   "pygments_lexer": "ipython3",
   "version": "3.11.6"
  }
 },
 "nbformat": 4,
 "nbformat_minor": 2
}
