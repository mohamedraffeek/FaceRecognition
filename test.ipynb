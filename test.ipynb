{
 "cells": [
  {
   "cell_type": "code",
   "execution_count": 9,
   "metadata": {},
   "outputs": [],
   "source": [
    "import numpy as np\n",
    "import imageio as iio\n",
    "import DatasetSplitter\n",
    "from sklearn.neighbors import KNeighborsClassifier\n",
    "from sklearn.metrics import accuracy_score\n",
    "import matplotlib.pyplot as plt\n",
    "from sklearn.decomposition import PCA as pca_test\n"
   ]
  },
  {
   "cell_type": "code",
   "execution_count": 10,
   "metadata": {},
   "outputs": [],
   "source": [
    "def covariance(D):\n",
    "    global mean_vector \n",
    "    mean_vector = np.mean(D, axis=0)\n",
    "    Z = D - mean_vector\n",
    "    cov = (1/(len(D) - 1)) * (Z.T @ Z) \n",
    "    return cov"
   ]
  },
  {
   "cell_type": "code",
   "execution_count": 11,
   "metadata": {},
   "outputs": [
    {
     "name": "stdout",
     "output_type": "stream",
     "text": [
      "[[1283.63333333 1269.42831541 1261.390681   ... -186.80860215\n",
      "  -140.96594982  -83.68530466]\n",
      " [1269.42831541 1273.30133129 1258.84587814 ... -177.35637481\n",
      "  -136.70481311  -80.32667691]\n",
      " [1261.390681   1258.84587814 1261.02508961 ... -188.94623656\n",
      "  -142.06451613  -88.08602151]\n",
      " ...\n",
      " [-186.80860215 -177.35637481 -188.94623656 ... 2204.85796211\n",
      "  1921.37224782 1784.1593446 ]\n",
      " [-140.96594982 -136.70481311 -142.06451613 ... 1921.37224782\n",
      "  1969.2859703  1811.91858679]\n",
      " [ -83.68530466  -80.32667691  -88.08602151 ... 1784.1593446\n",
      "  1811.91858679 1870.55012801]]\n"
     ]
    }
   ],
   "source": [
    "trainingData, trainingLabels, testingData, testingLabels = DatasetSplitter.differentSplitData()\n",
    "trainingData = np.array(trainingData)\n",
    "print(np.cov(trainingData,  rowvar=False).T)"
   ]
  },
  {
   "cell_type": "code",
   "execution_count": 12,
   "metadata": {},
   "outputs": [
    {
     "name": "stdout",
     "output_type": "stream",
     "text": [
      "[[1283.63333333 1269.42831541 1261.390681   ... -186.80860215\n",
      "  -140.96594982  -83.68530466]\n",
      " [1269.42831541 1273.30133129 1258.84587814 ... -177.35637481\n",
      "  -136.70481311  -80.32667691]\n",
      " [1261.390681   1258.84587814 1261.02508961 ... -188.94623656\n",
      "  -142.06451613  -88.08602151]\n",
      " ...\n",
      " [-186.80860215 -177.35637481 -188.94623656 ... 2204.85796211\n",
      "  1921.37224782 1784.1593446 ]\n",
      " [-140.96594982 -136.70481311 -142.06451613 ... 1921.37224782\n",
      "  1969.2859703  1811.91858679]\n",
      " [ -83.68530466  -80.32667691  -88.08602151 ... 1784.1593446\n",
      "  1811.91858679 1870.55012801]]\n"
     ]
    }
   ],
   "source": [
    "print(covariance(trainingData))"
   ]
  },
  {
   "cell_type": "markdown",
   "metadata": {},
   "source": [
    "# Dual PCA"
   ]
  },
  {
   "cell_type": "code",
   "execution_count": 13,
   "metadata": {},
   "outputs": [],
   "source": [
    "def covariance(D):\n",
    "    global mean_vector \n",
    "    mean_vector = np.mean(D, axis=0)\n",
    "    Z = D - mean_vector \n",
    "    cov = (Z @ Z.T) \n",
    "    return cov"
   ]
  },
  {
   "cell_type": "code",
   "execution_count": 14,
   "metadata": {},
   "outputs": [],
   "source": [
    "def DualPCA(D, testingData, alpha): # D is n x d\n",
    "    cov = covariance(D)\n",
    "    global eigenvectors, eigenvalues, UT                # U -> n x rank\n",
    "    eigenvectors, eigenvalues, UT = np.linalg.svd(cov) # With resc pect to Z @ Z.T\n",
    "    eigenvalues = np.sqrt(eigenvalues) # Sigma\n",
    "    \n",
    "    sorted_idx = eigenvalues.argsort()[::-1]  # Sort in descending order\n",
    "    eigenvalues = eigenvalues[sorted_idx]\n",
    "    eigenvectors = eigenvectors[:, sorted_idx]\n",
    "    # Project training Data Z . V = U . Sigma\n",
    "    trace = sum(eigenvalues)\n",
    "    c = 0 # Accumulator for sum of eigenvaleus\n",
    "    lastIndex = 0\n",
    "    for index in range(len(eigenvalues)):\n",
    "        c += eigenvalues[index]\n",
    "        if c / trace >= alpha :\n",
    "            lastIndex = index\n",
    "            break\n",
    "    Up = eigenvectors[:, :lastIndex + 1] # U`\n",
    "    sigmap = np.diag(eigenvalues[:lastIndex + 1])\n",
    "    projectedData = Up @ sigmap\n",
    "    \n",
    "    # Project testing\n",
    "    Z = D - mean_vector \n",
    "    testingData = testingData - mean_vector\n",
    "    \n",
    "    epsilon = 1e-10  # Small constant\n",
    "    # Check if an element is zero consider it eps o.w leave it as it is.\n",
    "    inv = np.diag(np.where(eigenvalues[:lastIndex + 1] == 0, 1 / epsilon, \n",
    "                           np.reciprocal(eigenvalues[:lastIndex + 1]))) \n",
    "    \n",
    "    # inverse_matrix = np.linalg.inv(sigmap) # Sigma inverse\n",
    "    \n",
    "    projectionMatrix  =  Z.T @ Up @ inv\n",
    "    projectedTestingData = testingData @ projectionMatrix\n",
    "    \n",
    "    return projectedData, projectedTestingData"
   ]
  },
  {
   "cell_type": "code",
   "execution_count": 15,
   "metadata": {},
   "outputs": [],
   "source": [
    "def classifyKNN(projectedTrainData, trainLabel, projectedTestData, testLabel, k):\n",
    "    knn = KNeighborsClassifier(n_neighbors=k, weights='distance')\n",
    "    knn.fit(projectedTrainData, trainLabel)\n",
    "    # Calc accuracy of clssification\n",
    "    predictedClasses = knn.predict(projectedTestData)\n",
    "    accuracy = accuracy_score(testLabel, predictedClasses)\n",
    "    print(f\"Accuracy {100 * (accuracy)}\")\n",
    "    return accuracy"
   ]
  },
  {
   "cell_type": "code",
   "execution_count": 16,
   "metadata": {},
   "outputs": [
    {
     "name": "stdout",
     "output_type": "stream",
     "text": [
      "Accuracy 94.16666666666667\n"
     ]
    }
   ],
   "source": [
    "alpha_list = np.array([0.95])\n",
    "accuracy_results = np.array([])\n",
    "k = 1\n",
    "for alpha in alpha_list:\n",
    "    # Train the model\n",
    "    projectedTrainingData, projectedTestingData = DualPCA(trainingData, testingData, 0.8)\n",
    "    # Classify and test\n",
    "    accuracy_results = np.append(accuracy_results, classifyKNN(\n",
    "        projectedTrainingData, trainingLabels, \n",
    "        projectedTestingData, testingLabels,\n",
    "        k\n",
    "    ))"
   ]
  }
 ],
 "metadata": {
  "kernelspec": {
   "display_name": ".venv",
   "language": "python",
   "name": "python3"
  },
  "language_info": {
   "codemirror_mode": {
    "name": "ipython",
    "version": 3
   },
   "file_extension": ".py",
   "mimetype": "text/x-python",
   "name": "python",
   "nbconvert_exporter": "python",
   "pygments_lexer": "ipython3",
   "version": "3.11.6"
  }
 },
 "nbformat": 4,
 "nbformat_minor": 2
}
