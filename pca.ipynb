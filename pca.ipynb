{
 "cells": [
  {
   "cell_type": "code",
   "execution_count": 22,
   "metadata": {},
   "outputs": [],
   "source": [
    "import numpy as np\n",
    "import imageio as iio\n",
    "import DatasetSplitter\n",
    "from sklearn.neighbors import KNeighborsClassifier\n",
    "from sklearn.metrics import accuracy_score\n",
    "import matplotlib.pyplot as plt\n",
    "from sklearn.decomposition import PCA as pca_test\n"
   ]
  },
  {
   "cell_type": "markdown",
   "metadata": {},
   "source": [
    "# Splitting images to training data and testing data"
   ]
  },
  {
   "cell_type": "code",
   "execution_count": 2,
   "metadata": {},
   "outputs": [],
   "source": [
    "trainingData, trainingLabels, testingData, testingLabels = DatasetSplitter.splitData()"
   ]
  },
  {
   "cell_type": "markdown",
   "metadata": {},
   "source": [
    "# Computing covariance matrix"
   ]
  },
  {
   "cell_type": "code",
   "execution_count": 3,
   "metadata": {},
   "outputs": [],
   "source": [
    "def covariance(D):\n",
    "    global mean_vector \n",
    "    mean_vector = np.mean(D, axis=0)\n",
    "    Z = D - mean_vector\n",
    "    cov = (1/len(D)) * (Z.T @ Z) \n",
    "    return cov\n"
   ]
  },
  {
   "cell_type": "code",
   "execution_count": 4,
   "metadata": {},
   "outputs": [],
   "source": [
    "# try\n",
    "# def covariance(D):\n",
    "#     global mean_vector \n",
    "#     mean_vector = np.mean(D, axis=0)\n",
    "#     global Z \n",
    "#     Z = D - mean_vector\n",
    "#     cov = (1/len(D))*(Z @ Z.T) \n",
    "#     return cov"
   ]
  },
  {
   "cell_type": "markdown",
   "metadata": {},
   "source": [
    "# Testing computational correctness of covariance matrix"
   ]
  },
  {
   "cell_type": "code",
   "execution_count": 5,
   "metadata": {},
   "outputs": [],
   "source": [
    "# Test cov matrix \n",
    "trainingData = np.array(trainingData)\n",
    "myCov = covariance(trainingData)\n",
    "numCov = np.cov(trainingData.T, bias=True)\n",
    "# print(numCov)"
   ]
  },
  {
   "cell_type": "markdown",
   "metadata": {},
   "source": [
    "# Applying PCA algorithm to obtain P -> projection matrix"
   ]
  },
  {
   "cell_type": "code",
   "execution_count": 6,
   "metadata": {},
   "outputs": [],
   "source": [
    "def PCA(D, alpha):\n",
    "    cov = covariance(D)\n",
    "    eigenvalues, eigenvectors = np.linalg.eigh(cov)\n",
    "    \n",
    "    sorted_idx = eigenvalues.argsort()[::-1]  # Sort in descending order\n",
    "    eigenvalues = eigenvalues[sorted_idx]\n",
    "    eigenvectors = eigenvectors[:, sorted_idx]\n",
    "    \n",
    "    trace = np.trace(cov)\n",
    "    c = 0 # Accumulator for sum of eigenvaleus\n",
    "    lastIndex = 0\n",
    "    for index in range(len(eigenvalues)):\n",
    "        c += eigenvalues[index]\n",
    "        if c / trace >= alpha :\n",
    "            lastIndex = index\n",
    "            break\n",
    "    P = eigenvectors[:lastIndex + 1, :]# Projection Matrix\n",
    "    return P"
   ]
  },
  {
   "cell_type": "code",
   "execution_count": 7,
   "metadata": {},
   "outputs": [],
   "source": [
    "# # try\n",
    "# def PCA(D, alpha):\n",
    "#     cov = covariance(D)\n",
    "#     eigenvalues, eigenvectors = np.linalg.eigh(cov)\n",
    "    \n",
    "#     sorted_idx = eigenvalues.argsort()[::-1]  # Sort in descending order\n",
    "#     eigenvalues = eigenvalues[sorted_idx]\n",
    "#     eigenvectors = eigenvectors[:, sorted_idx]\n",
    "    \n",
    "#     eigenvectors = Z.T @ eigenvectors\n",
    "    \n",
    "#     eigenvectors = eigenvectors.T/ np.sqrt((eigenvectors.T ** 2).sum(axis=1, keepdims=True))\n",
    "    \n",
    "#     trace = sum(eigenvalues)\n",
    "#     c = 0 # Accumulator for sum of eigenvaleus\n",
    "#     lastIndex = 0\n",
    "#     for index in range(len(eigenvalues)):\n",
    "#         c += eigenvalues[index]\n",
    "#         if c / trace >= alpha :\n",
    "#             lastIndex = index\n",
    "#             break\n",
    "#     P = eigenvectors[:lastIndex + 1, :]# Projection Matrix\n",
    "#     return P"
   ]
  },
  {
   "cell_type": "code",
   "execution_count": 8,
   "metadata": {},
   "outputs": [],
   "source": [
    "def projectData(trainData, testData, alpha):\n",
    "    P = PCA(trainData, alpha)\n",
    "    # Project training data (correctly subtract mean before projection)\n",
    "    projectedTrainingData = (trainData - mean_vector) @ P.T\n",
    "\n",
    "    # Project testing data (correctly subtract mean before projection)\n",
    "    projectedTestingData = (testData - mean_vector) @ P.T\n",
    "    \n",
    "    return projectedTrainingData, projectedTestingData"
   ]
  },
  {
   "cell_type": "markdown",
   "metadata": {},
   "source": [
    "# Using KNN classifier, tie breaking at distance strategy"
   ]
  },
  {
   "cell_type": "code",
   "execution_count": 9,
   "metadata": {},
   "outputs": [],
   "source": [
    "def classifyKNN(projectedTrainData, trainLabel, projectedTestData, testLabel, k):\n",
    "    knn = KNeighborsClassifier(n_neighbors=k, weights='distance')\n",
    "    knn.fit(projectedTrainData, trainLabel)\n",
    "    # Calc accuracy of clssification\n",
    "    predictedClasses = knn.predict(projectedTestData)\n",
    "    accuracy = accuracy_score(testLabel, predictedClasses)\n",
    "    print(f\"Accuracy {100 * (accuracy)}\")\n",
    "    return accuracy"
   ]
  },
  {
   "cell_type": "markdown",
   "metadata": {},
   "source": [
    "# Main Flow"
   ]
  },
  {
   "cell_type": "code",
   "execution_count": 10,
   "metadata": {},
   "outputs": [
    {
     "name": "stdout",
     "output_type": "stream",
     "text": [
      "Accuracy 70.5\n",
      "Accuracy 82.5\n",
      "Accuracy 86.0\n",
      "Accuracy 91.5\n"
     ]
    }
   ],
   "source": [
    "alpha_list = np.array([0.8, 0.85, 0.9, 0.95])\n",
    "accuracy_results = np.array([])\n",
    "k = 1\n",
    "for alpha in alpha_list:\n",
    "    # Train the model\n",
    "    projectedTrainingData, projectedTestingData = projectData(trainingData, testingData, alpha)\n",
    "    # Classify and test\n",
    "    accuracy_results = np.append(accuracy_results, classifyKNN(\n",
    "        projectedTrainingData, trainingLabels, \n",
    "        projectedTestingData, testingLabels,\n",
    "        k\n",
    "    ))\n",
    "      "
   ]
  },
  {
   "cell_type": "markdown",
   "metadata": {},
   "source": [
    "# Plot the results"
   ]
  },
  {
   "cell_type": "code",
   "execution_count": 11,
   "metadata": {},
   "outputs": [
    {
     "data": {
      "image/png": "[encoded data removed]",
      "text/plain": [
       "<Figure size 640x480 with 1 Axes>"
      ]
     },
     "metadata": {},
     "output_type": "display_data"
    }
   ],
   "source": [
    "# plotting the points \n",
    "plt.plot(alpha_list, accuracy_results)\n",
    "plt.xlabel('alpha')\n",
    "plt.ylabel('accuracy')\n",
    "plt.title('PCA - Part 4')\n",
    "plt.show()  "
   ]
  },
  {
   "cell_type": "markdown",
   "metadata": {},
   "source": [
    "According to this plot, accuracy is proportional to alpha. "
   ]
  },
  {
   "cell_type": "markdown",
   "metadata": {},
   "source": [
    "# Hyper-parameter tuning"
   ]
  },
  {
   "cell_type": "code",
   "execution_count": 12,
   "metadata": {},
   "outputs": [
    {
     "name": "stdout",
     "output_type": "stream",
     "text": [
      "Accuracy 91.5\n",
      "Accuracy 86.0\n",
      "Accuracy 78.5\n",
      "Accuracy 76.0\n"
     ]
    }
   ],
   "source": [
    "k_list = np.array([1, 3, 5, 7])\n",
    "accuracy_results = np.array([])\n",
    "alpha = 0.95\n",
    "for k in k_list:\n",
    "    # Train the model\n",
    "    projectedTrainingData, projectedTestingData = projectData(trainingData, testingData, alpha)\n",
    "    # Classify and test\n",
    "    accuracy_results = np.append(accuracy_results, classifyKNN(\n",
    "        projectedTrainingData, trainingLabels, \n",
    "        projectedTestingData, testingLabels,\n",
    "        k\n",
    "    ))"
   ]
  },
  {
   "cell_type": "code",
   "execution_count": 13,
   "metadata": {},
   "outputs": [
    {
     "data": {
      "image/png": "[encoded data removed]",
      "text/plain": [
       "<Figure size 640x480 with 1 Axes>"
      ]
     },
     "metadata": {},
     "output_type": "display_data"
    }
   ],
   "source": [
    "# plotting the points \n",
    "plt.plot(k_list, accuracy_results)\n",
    "plt.xlabel('K (n_neigbour)')\n",
    "plt.ylabel('accuracy')\n",
    "plt.title('PCA - Part 6')\n",
    "plt.show()  "
   ]
  },
  {
   "cell_type": "markdown",
   "metadata": {},
   "source": [
    "In our case the best K is K = 1 "
   ]
  },
  {
   "cell_type": "markdown",
   "metadata": {},
   "source": [
    "# Bonus"
   ]
  },
  {
   "cell_type": "markdown",
   "metadata": {},
   "source": [
    "# Using randomized PCA for fast computation "
   ]
  },
  {
   "cell_type": "markdown",
   "metadata": {},
   "source": [
    "The time complexity of randomized PCA is O(n * p^2) + O(p^3) where p is the number of PCs. Meanwhile, The time complexity of traditional PCA is O(n * d^2) + O(d^3)"
   ]
  },
  {
   "cell_type": "code",
   "execution_count": 31,
   "metadata": {},
   "outputs": [
    {
     "name": "stdout",
     "output_type": "stream",
     "text": [
      "Accuracy 93.5\n",
      "Randomized PCA at K = 1\n"
     ]
    }
   ],
   "source": [
    "k = 1\n",
    "numPca = pca_test(n_components=114, svd_solver='randomized')\n",
    "transformedTrainingData = pca.fit_transform(trainingData)\n",
    "transformedTestingData = pca.transform(testingData)\n",
    "accuracy = classifyKNN(\n",
    "        transformedTrainingData, trainingLabels, \n",
    "        transformedTestingData, testingLabels,\n",
    "        k\n",
    "    )\n",
    "print(f\"Randomized PCA at K = 1\")\n"
   ]
  },
  {
   "cell_type": "markdown",
   "metadata": {},
   "source": [
    "The accuracy is better than mine but In general it's less than the traditional PCA."
   ]
  },
  {
   "cell_type": "markdown",
   "metadata": {},
   "source": [
    "The reason why our PCA is less better tha pyhon's one is the propagation error (truncation error) at calculating the covariance matrix"
   ]
  }
 ],
 "metadata": {
  "kernelspec": {
   "display_name": "Python 3",
   "language": "python",
   "name": "python3"
  },
  "language_info": {
   "codemirror_mode": {
    "name": "ipython",
    "version": 3
   },
   "file_extension": ".py",
   "mimetype": "text/x-python",
   "name": "python",
   "nbconvert_exporter": "python",
   "pygments_lexer": "ipython3",
   "version": "3.11.0"
  }
 },
 "nbformat": 4,
 "nbformat_minor": 2
}
