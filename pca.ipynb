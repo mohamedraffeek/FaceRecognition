{
 "cells": [
  {
   "cell_type": "code",
   "execution_count": 1,
   "metadata": {},
   "outputs": [],
   "source": [
    "import numpy as np\n",
    "import imageio as iio\n",
    "import DatasetSplitter\n",
    "from sklearn.neighbors import KNeighborsClassifier\n",
    "from sklearn.metrics import accuracy_score\n",
    "import matplotlib.pyplot as plt\n",
    "from sklearn.decomposition import PCA as pca_test\n"
   ]
  },
  {
   "cell_type": "markdown",
   "metadata": {},
   "source": [
    "# Splitting images to training data and testing data"
   ]
  },
  {
   "cell_type": "code",
   "execution_count": 2,
   "metadata": {},
   "outputs": [],
   "source": [
    "trainingData, trainingLabels, testingData, testingLabels = DatasetSplitter.splitData()"
   ]
  },
  {
   "cell_type": "markdown",
   "metadata": {},
   "source": [
    "# Computing covariance matrix"
   ]
  },
  {
   "cell_type": "code",
   "execution_count": 3,
   "metadata": {},
   "outputs": [],
   "source": [
    "def covariance(D):\n",
    "    global mean_vector \n",
    "    mean_vector = np.mean(D, axis=0)\n",
    "    Z = D - mean_vector\n",
    "    cov = (1/len(D)) * (Z.T @ Z) \n",
    "    return cov\n"
   ]
  },
  {
   "cell_type": "code",
   "execution_count": null,
   "metadata": {},
   "outputs": [],
   "source": [
    "# try\n",
    "# def covariance(D):\n",
    "#     global mean_vector \n",
    "#     mean_vector = np.mean(D, axis=0)\n",
    "#     global Z \n",
    "#     Z = D - mean_vector\n",
    "#     cov = (1/len(D))*(Z @ Z.T) \n",
    "#     return cov"
   ]
  },
  {
   "cell_type": "markdown",
   "metadata": {},
   "source": [
    "# Testing computational correctness of covariance matrix"
   ]
  },
  {
   "cell_type": "code",
   "execution_count": 4,
   "metadata": {},
   "outputs": [],
   "source": [
    "# Test cov matrix \n",
    "trainingData = np.array(trainingData)\n",
    "myCov = covariance(trainingData)\n",
    "numCov = np.cov(trainingData.T, bias=True)\n",
    "# print(numCov)"
   ]
  },
  {
   "cell_type": "markdown",
   "metadata": {},
   "source": [
    "# Applying PCA algorithm to obtain P -> projection matrix"
   ]
  },
  {
   "cell_type": "code",
   "execution_count": 6,
   "metadata": {},
   "outputs": [],
   "source": [
    "def PCA(D, alpha):\n",
    "    cov = covariance(D)\n",
    "    eigenvalues, eigenvectors = np.linalg.eigh(cov)\n",
    "    \n",
    "    sorted_idx = eigenvalues.argsort()[::-1]  # Sort in descending order\n",
    "    eigenvalues = eigenvalues[sorted_idx]\n",
    "    eigenvectors = eigenvectors[:, sorted_idx]\n",
    "    \n",
    "    trace = np.trace(cov)\n",
    "    c = 0 # Accumulator for sum of eigenvaleus\n",
    "    lastIndex = 0\n",
    "    for index in range(len(eigenvalues)):\n",
    "        c += eigenvalues[index]\n",
    "        if c / trace >= alpha :\n",
    "            lastIndex = index\n",
    "            break\n",
    "    P = eigenvectors[:lastIndex + 1, :]# Projection Matrix\n",
    "    return P"
   ]
  },
  {
   "cell_type": "code",
   "execution_count": null,
   "metadata": {},
   "outputs": [],
   "source": [
    "# # try\n",
    "# def PCA(D, alpha):\n",
    "#     cov = covariance(D)\n",
    "#     eigenvalues, eigenvectors = np.linalg.eigh(cov)\n",
    "    \n",
    "#     sorted_idx = eigenvalues.argsort()[::-1]  # Sort in descending order\n",
    "#     eigenvalues = eigenvalues[sorted_idx]\n",
    "#     eigenvectors = eigenvectors[:, sorted_idx]\n",
    "    \n",
    "#     eigenvectors = Z.T @ eigenvectors\n",
    "    \n",
    "#     eigenvectors = eigenvectors.T/ np.sqrt((eigenvectors.T ** 2).sum(axis=1, keepdims=True))\n",
    "    \n",
    "#     trace = sum(eigenvalues)\n",
    "#     c = 0 # Accumulator for sum of eigenvaleus\n",
    "#     lastIndex = 0\n",
    "#     for index in range(len(eigenvalues)):\n",
    "#         c += eigenvalues[index]\n",
    "#         if c / trace >= alpha :\n",
    "#             lastIndex = index\n",
    "#             break\n",
    "#     P = eigenvectors[:lastIndex + 1, :]# Projection Matrix\n",
    "#     return P"
   ]
  },
  {
   "cell_type": "code",
   "execution_count": 7,
   "metadata": {},
   "outputs": [],
   "source": [
    "def projectData(trainData, testData, alpha):\n",
    "    P = PCA(trainData, alpha)\n",
    "    # Project training data (correctly subtract mean before projection)\n",
    "    projectedTrainingData = (trainData - mean_vector) @ P.T\n",
    "\n",
    "    # Project testing data (correctly subtract mean before projection)\n",
    "    projectedTestingData = (testData - mean_vector) @ P.T\n",
    "    \n",
    "    return projectedTrainingData, projectedTestingData"
   ]
  },
  {
   "cell_type": "markdown",
   "metadata": {},
   "source": [
    "# Using KNN classifier, tie breaking at distance strategy"
   ]
  },
  {
   "cell_type": "code",
   "execution_count": 8,
   "metadata": {},
   "outputs": [],
   "source": [
    "def classifyKNN(projectedTrainData, trainLabel, projectedTestData, testLabel, k):\n",
    "    knn = KNeighborsClassifier(n_neighbors=k, weights='distance')\n",
    "    knn.fit(projectedTrainData, trainLabel)\n",
    "    # Calc accuracy of clssification\n",
    "    predictedClasses = knn.predict(projectedTestData)\n",
    "    accuracy = accuracy_score(testLabel, predictedClasses)\n",
    "    print(f\"Accuracy {100 * (accuracy)}\")\n",
    "    return accuracy"
   ]
  },
  {
   "cell_type": "markdown",
   "metadata": {},
   "source": [
    "# Main Flow"
   ]
  },
  {
   "cell_type": "code",
   "execution_count": 9,
   "metadata": {},
   "outputs": [
    {
     "name": "stdout",
     "output_type": "stream",
     "text": [
      "Accuracy 68.5\n",
      "Accuracy 81.0\n"
     ]
    }
   ],
   "source": [
    "alpha_list = np.array([0.8, 0.85, 0.9, 0.95])\n",
    "accuracy_results = np.array([])\n",
    "k = 1\n",
    "for alpha in alpha_list:\n",
    "    # Train the model\n",
    "    projectedTrainingData, projectedTestingData = projectData(trainingData, testingData, alpha)\n",
    "    # Classify and test\n",
    "    accuracy_results = np.append(accuracy_results, classifyKNN(\n",
    "        projectedTrainingData, trainingLabels, \n",
    "        projectedTestingData, testingLabels,\n",
    "        k\n",
    "    ))\n",
    "      "
   ]
  },
  {
   "cell_type": "code",
   "execution_count": null,
   "metadata": {},
   "outputs": [],
   "source": [
    "# Deep copy of results as it'll be used later\n",
    "accuracyOfEqualSplit = np.array(accuracy_results)   "
   ]
  },
  {
   "cell_type": "markdown",
   "metadata": {},
   "source": [
    "# Plot the results"
   ]
  },
  {
   "cell_type": "code",
   "execution_count": null,
   "metadata": {},
   "outputs": [],
   "source": [
    "# plotting the points \n",
    "plt.plot(alpha_list, accuracy_results)\n",
    "plt.xlabel('alpha')\n",
    "plt.ylabel('accuracy')\n",
    "plt.title('PCA - Part 4')\n",
    "plt.show()  "
   ]
  },
  {
   "cell_type": "markdown",
   "metadata": {},
   "source": [
    "According to this plot, accuracy is proportional to alpha. "
   ]
  },
  {
   "cell_type": "markdown",
   "metadata": {},
   "source": [
    "# Hyper-parameter tuning"
   ]
  },
  {
   "cell_type": "code",
   "execution_count": null,
   "metadata": {},
   "outputs": [],
   "source": [
    "k_list = np.array([1, 3, 5, 7])\n",
    "accuracy_results = np.array([])\n",
    "alpha = 0.95\n",
    "for k in k_list:\n",
    "    # Train the model\n",
    "    projectedTrainingData, projectedTestingData = projectData(trainingData, testingData, alpha)\n",
    "    # Classify and test\n",
    "    accuracy_results = np.append(accuracy_results, classifyKNN(\n",
    "        projectedTrainingData, trainingLabels, \n",
    "        projectedTestingData, testingLabels,\n",
    "        k\n",
    "    ))"
   ]
  },
  {
   "cell_type": "code",
   "execution_count": null,
   "metadata": {},
   "outputs": [],
   "source": [
    "# plotting the points \n",
    "plt.plot(k_list, accuracy_results)\n",
    "plt.xlabel('K (n_neigbour)')\n",
    "plt.ylabel('accuracy')\n",
    "plt.title('PCA - Part 6')\n",
    "plt.show()  "
   ]
  },
  {
   "cell_type": "markdown",
   "metadata": {},
   "source": [
    "In our case the best K is K = 1 "
   ]
  },
  {
   "cell_type": "markdown",
   "metadata": {},
   "source": [
    "# Bonus"
   ]
  },
  {
   "cell_type": "markdown",
   "metadata": {},
   "source": [
    "# Using randomized PCA for fast computation "
   ]
  },
  {
   "cell_type": "markdown",
   "metadata": {},
   "source": [
    "The time complexity of randomized PCA is O(n * p^2) + O(p^3) where p is the number of PCs. Meanwhile, The time complexity of traditional PCA is O(n * d^2) + O(d^3)"
   ]
  },
  {
   "cell_type": "code",
<<<<<<< HEAD
   "execution_count": 14,
=======
   "execution_count": null,
>>>>>>> origin/main
   "metadata": {},
   "outputs": [],
   "source": [
    "k = 1\n",
    "numPca = pca_test(n_components=114, svd_solver='randomized')\n",
    "transformedTrainingData = numPca.fit_transform(trainingData)\n",
    "transformedTestingData = numPca.transform(testingData)\n",
    "accuracy = classifyKNN(\n",
    "        transformedTrainingData, trainingLabels, \n",
    "        transformedTestingData, testingLabels,\n",
    "        k\n",
    "    )\n",
    "print(f\"Randomized PCA at K = 1\")\n"
   ]
  },
  {
   "cell_type": "markdown",
   "metadata": {},
   "source": [
    "The accuracy is better than mine but In general it's less than the traditional PCA."
   ]
  },
  {
   "cell_type": "markdown",
   "metadata": {},
   "source": [
    "The reason why our PCA is less better tha pyhon's one is the propagation error (truncation error) at calculating the covariance matrix"
   ]
  },
  {
   "cell_type": "markdown",
   "metadata": {},
   "source": [
    "# Using different split of data (70% for training - 30 %  for testing)"
   ]
  },
  {
   "cell_type": "code",
   "execution_count": 15,
   "metadata": {},
   "outputs": [],
   "source": [
    "trainingData, trainingLabels, testingData, testingLabels = DatasetSplitter.differentSplitData()"
   ]
  },
  {
   "cell_type": "code",
   "execution_count": 16,
   "metadata": {},
   "outputs": [
    {
     "name": "stdout",
     "output_type": "stream",
     "text": [
      "Accuracy 74.16666666666667\n",
      "Accuracy 88.33333333333333\n",
      "Accuracy 94.16666666666667\n",
      "Accuracy 95.83333333333334\n"
     ]
    }
   ],
   "source": [
    "alpha_list = np.array([0.8, 0.85, 0.9, 0.95])\n",
    "accuracy_results = np.array([])\n",
    "k = 1\n",
    "for alpha in alpha_list:\n",
    "    # Train the model\n",
    "    projectedTrainingData, projectedTestingData = projectData(trainingData, testingData, alpha)\n",
    "    # Classify and test\n",
    "    accuracy_results = np.append(accuracy_results, classifyKNN(\n",
    "        projectedTrainingData, trainingLabels, \n",
    "        projectedTestingData, testingLabels,\n",
    "        k\n",
    "    ))"
   ]
  },
  {
   "cell_type": "markdown",
   "metadata": {},
   "source": [
    "# Plot the results"
   ]
  },
  {
   "cell_type": "code",
   "execution_count": 17,
   "metadata": {},
   "outputs": [
    {
     "data": {
      "image/png": "iVBORw0KGgoAAAANSUhEUgAAAkAAAAHHCAYAAABXx+fLAAAAOXRFWHRTb2Z0d2FyZQBNYXRwbG90bGliIHZlcnNpb24zLjguMywgaHR0cHM6Ly9tYXRwbG90bGliLm9yZy/H5lhTAAAACXBIWXMAAA9hAAAPYQGoP6dpAABUU0lEQVR4nO3deVxU5eIG8GeGZYZ9B2UXFFBRNBTSNM0lFddyKS01b9dupWnikrupKVlp+rO8VjfTm5pL7lkuUWaaW5oYKouioigohOzrzPv7g5wrggrDwJnl+X4+fGwO55x5XrCZx/OeOUcmhBAgIiIiMiFyqQMQERERNTQWICIiIjI5LEBERERkcliAiIiIyOSwABEREZHJYQEiIiIik8MCRERERCaHBYiIiIhMDgsQERERmRwWICIiIjI5LEBEBmTt2rWQyWSaL6VSiaCgIIwfPx4ZGRlV1s/IyMCUKVMQEhICa2tr2NjYIDw8HO+99x7u3r1b7XNERERAJpPh3//+d72N4/4xyOVyeHp64tlnn8WhQ4d0+jwbN27E8uXLa7y+Wq3G6tWr0aZNG9ja2sLDwwN9+vTBb7/9ptNcQOWfgUwmg42NDVq0aIH33nsPhYWFOn8+IqpMxnuBERmOtWvXYsyYMViwYAGaNGmC4uJiHDlyBF9//TX8/PwQHx8Pa2trAMCpU6cQFRWF/Px8vPzyywgPDwcA/P7779i0aRM6duyIAwcOVNp/cnIygoKC4O/vDy8vLxw5cqRexiGTydCzZ0+MGjUKQghcuXIFq1atwu3bt7F371706dNHJ8/Tr18/xMfH4+rVqzVaf/LkyVi2bBlefvlldO7cGXfv3sVnn32G1NRUHD16FBERETrJBVT+GQBAfn4+fv31V2zcuBFDhgzB1q1bdfZcRFQNQUQG46uvvhIAxKlTpyotj46OFgDExo0bhRBCZGdnCy8vL+Hh4SEuXrxYZT/p6eli4cKFVZbPnTtXuLu7i23btgmZTCauXLlSL+MAIMaNG1dp2blz5wQA8eyzz9Z5//n5+UIIIfr27Sv8/PxqtE1ZWZmwsrISQ4YMqbQ8JSVFABATJkyoc677VfczEEKIIUOGCLlcLoqKinT6fERUGafAiIxAt27dAABXrlwBAHz22WdIS0vDsmXLEBISUmV9Dw8PzJ49u8rye0cf+vXrBwcHB2zcuLF+g9+nVatWcHV11Yzh119/xdChQ+Hr6wuFQgEfHx9MmjQJRUVFlbZ75ZVXYGtri8uXLyMqKgp2dnZ46aWX0LVrV+zduxfXrl3TTDP5+/s/9PnLyspQVFQEDw+PSsvd3d0hl8thZWWl8zFXp1GjRpDJZDA3N6+0fOvWrQgPD4eVlRVcXV3x8ssvIy0trdI6934WaWlpGDRoEGxtbeHm5oYpU6ZApVJp1jt06BBkMlmVKcerV69CJpNh7dq1mmXp6ekYM2YMvL29oVAo0LhxYwwcOLDGR9WI9JX541chIn13+fJlAICLiwsAYPfu3bCyssKQIUNqvI8TJ07g0qVL+Oqrr2BpaYnnn38eGzZswMyZM+sl84Oys7ORnZ2Npk2bAqh4wy8sLMQbb7wBFxcXnDx5EitXrsSNGzeqTA+Vl5ejV69e6NSpEz766CNYW1ujUaNGyMnJwY0bN/Dxxx8DAGxtbR/6/FZWVoiMjMTatWvRoUMHzRTYwoUL4eTkhNdee03nYy4uLkZmZiYAoKCgAEePHsW6deswYsSISgXo3tRn+/btERMTg4yMDKxYsQJHjx7FH3/8AUdHR826KpUKvXr1QmRkJD766CP8+OOPWLp0KQIDA/HGG2/UOuPgwYNx/vx5vPXWW/D398ft27dx8OBBpKamPrJQEuk9qQ9BEVHN3ZsC+/HHH8WdO3fE9evXxaZNm4SLi4uwsrISN27cEEII4eTkJMLCwmq17/HjxwsfHx+hVquFEEIcOHBAABB//PGHjkdRMf3z6quvijt37ojbt2+LEydOiO7duwsAYunSpUIIIQoLC6tsFxMTI2Qymbh27Zpm2ejRowUAMX369Crr12YKTAghkpOTxRNPPCEAaL4CAgJEQkJC7Qf5GPc/x/1fgwYNEsXFxZr1SktLhbu7uwgNDa00Lfbdd98JAGLu3LmaZfd+FgsWLKj0XG3bthXh4eGaxz///LMAIH7++edK6125ckUAEF999ZUQomIqFYD48MMPdThyIv3AKTAiA9SjRw+4ubnBx8cHL774ImxtbbFjxw54eXkBAHJzc2FnZ1fj/ZWXl2Pz5s144YUXIJPJAFRMq7m7u2PDhg31MoYvv/wSbm5ucHd3R2RkJI4ePYro6Gi8/fbbAFBpyqmgoACZmZno2LEjhBD4448/quxPm6MbD7Kzs0PLli0xbtw4bN++HatWrUJ5eTkGDRqkOVKjSwMHDsTBgwdx8OBB7Nq1CzNmzMC+ffswYsQIiL8/n/L777/j9u3bePPNN6FUKjXb9u3bFyEhIdi7d2+V/b7++uuVHnfu3BkpKSm1zmdlZQVLS0scOnQI2dnZtd6eSJ9xCozIAH366acICgqCubk5PDw8EBwcDLn8f/+esbe3R15eXo33d+DAAdy5cwcRERG4dOmSZvkzzzyDb775BkuWLKm0/welp6dXeuzg4PDYc2YGDhyI8ePHQyaTaYqHjY2N5vupqamYO3cudu/eXeXNNycnp9Jjc3NzeHt7P3acj1JeXo4ePXqga9euWLlypWZ5jx490LJlS3z44YdYsmTJQ7fX5mfg7e2NHj16aB4PGDAALi4umDJlCr777jv0798f165dAwAEBwdX2T4kJKTKJ/WUSiXc3NwqLXNyctKqwCgUCixZsgSTJ0+Gh4cHnnzySfTr1w+jRo1Co0aNar0/In3CAkRkgCIiItCuXbuHfj8kJARnz55FaWkpLC0tH7u/e0d5hg0bVu33f/nlFzzzzDMP3b5x48aVHn/11Vd45ZVXHvmcD77530+lUqFnz57466+/8M477yAkJAQ2NjZIS0vDK6+8ArVaXWl9hULxyIJWE4cPH0Z8fDyWLVtWaXmzZs3QvHlzHD169JHba/MzqE737t01efr371/r7c3MzB67zr2jfA+6/0Tpe95++230798fO3fuxP79+zFnzhzExMTgp59+Qtu2bWudj0hfsAARGaH+/fvj2LFj2LZtG4YPH/7IdQsKCrBr1y688MIL1Z40PWHCBGzYsOGRBejgwYOVHrds2VK74H/7888/kZSUhHXr1mmuk1Pd8zzOw97oq3PvQpLVlYCysjKUl5c/cntd/QzuPU9+fj4AwM/PDwCQmJio+bTfPYmJiZrv14aTkxMAVLkY5r2jTQ8KDAzE5MmTMXnyZCQnJ6NNmzZYunQp1q9fX+vnJtIXLEBERuj111/HypUrMXnyZISHhyMoKKjS92/fvo3PP/8cs2fPxo4dO1BQUIBx48ahc+fOVfZ14MABbN26FZ9++ikUCkW1z/ewIznauncUQ9x3nVYhBFasWFGr/djY2FSZLnuYez+jTZs2oXfv3prlZ86cQWJi4mM/Baarn8GePXsAAGFhYQCAdu3awd3dHatXr8Y//vEPze/ghx9+wMWLFzF37txaP4efnx/MzMxw+PBhDBo0SLN81apVldYrLCyEXC6vdO5RYGAg7OzsUFJSUuvnJdInLEBERsjJyQk7duxAVFQU2rRpU+lK0GfOnME333yDDh06AKiY/nJxcUHHjh2r3deAAQPwxRdfYO/evXj++ecbJH9ISAgCAwMxZcoUpKWlwd7eHtu2bav1eSzh4eHYvHkzoqOj0b59e9ja2j50Wik8PBw9e/bEunXrkJubi2effRa3bt3CypUrYWVlpTk5W5eSkpI0R1EKCwtx/PhxrFu3Dk2bNsXIkSMBABYWFliyZAnGjBmDLl26YPjw4ZqPwfv7+2PSpEm1fl4HBwcMHToUK1euhEwmQ2BgIL777jvcvn27Sr7u3btj2LBhaNGiBczNzbFjxw5kZGTgxRdfrPsPgEhK0n4IjYhq42FXgn6YmzdvikmTJomgoCChVCqFtbW1CA8PF4sWLRI5OTkiIyNDmJubi5EjRz50H4WFhcLa2lo899xzuhrGQ6+CfL8LFy6IHj16CFtbW+Hq6irGjh0r4uLiKn1MW4iKj37b2NhUu4/8/HwxYsQI4ejoKAA89iPxhYWFYsGCBaJFixbCyspKODg4iH79+tXbpQDu/zIzMxPe3t7itddeExkZGVXW37x5s2jbtq1QKBTC2dlZvPTSS5rLHtzzsJ/FvHnzxIMv93fu3BGDBw8W1tbWwsnJSfzrX/8S8fHxlX6+mZmZYty4cSIkJETY2NgIBwcHERkZKbZs2aK7HwSRRHgvMCIiIjI5vA4QERERmRwWICIiIjI5LEBERERkcliAiIiIyOSwABEREZHJYQEiIiIik8MLIVZDrVbj5s2bsLOzq9Wl9ImIiEg6Qgjk5eXB09PzsfcHZAGqxs2bN+Hj4yN1DCIiItLC9evX4e3t/ch1WICqYWdnB6DiB2hvby9xGiIiIqqJ3Nxc+Pj4aN7HH4UFqBr3pr3s7e1ZgIiIiAxMTU5f4UnQREREZHJYgIiIiMjksAARERGRyWEBIiIiIpPDAkREREQmhwWIiIiITA4LEBEREZkcFiAiIiIyOSxAREREZHJYgIiIiMjksAARERGRyWEBIiIiIpPDAkREREQNRqUWuJpZgNt5xZLm4N3giYiISOeEEEjPLUZieh6SMvKQmJ6PpIw8JN/OQ3GZGu/0DsEbXQMly8cCRERERHXyV0Hp/4pORh6S0iv+zCsur3Z9S3M58kvKGjhlZSxAREREVCP5JeVIuq/g3Duyk5lfUu36ZnIZmrjaINjDDkEedghuZIsgDzv4udjATC5r4PSVsQARERFRJcVlKqTcKahyROdGdtFDt/Fxtrqv6FT8GeBmA4W5WQMmrzkWICIiIhNVrlLj2l+FDxzRycPVrEKo1KLabdztFJqCE+xhh6BGdmjmbgsbhWFVCsNKS0RERLUmhEDa3aJKJyMnpufh0p18lJarq93GXmmOkEb2CGpkqzmyE+RhBycbywZOXz9YgIiIiIyEEAKZ+aWagnNvCis5Ix/5JdWfkGxlYYYgD9tKU1fBjezgbqeATCbteTr1iQWIiIjIAOUUlSH5gXN0kjLy8VdBabXrW5jJEOj2QNHxsIO3kxXkEp+QLAUWICIiIj1WVKrCpdv5lc7RScrIw62c6i8kKJMB/i42CPKw1ZyjE+xhB39XG1iY8frH97AAERER6YEylRpXMgvuu3BgxZ/X/iqEqP58ZHg6KDUF596RnUA3W1hZ6ucnr/SJ5AXo008/xYcffoj09HSEhYVh5cqViIiIqHbdsrIyxMTEYN26dUhLS0NwcDCWLFmC3r17a9Z59913MX/+/ErbBQcHIyEhoV7HQUREVBNqtcCN7CLNEZ2E9IoprJTMfJSpqm86TtYWCP676AQ3skdwI1s0dbeDg5VFA6c3HpIWoM2bNyM6OhqrV69GZGQkli9fjl69eiExMRHu7u5V1p89ezbWr1+PL774AiEhIdi/fz+ee+45/Pbbb2jbtq1mvZYtW+LHH3/UPDY3l7znERGRiRFC4HZeSZUjOkkZ+SgqU1W7jY2lWZUjOkEednC1tTTqE5KlIBPiYQfW6l9kZCTat2+PTz75BACgVqvh4+ODt956C9OnT6+yvqenJ2bNmoVx48Zplg0ePBhWVlZYv349gIojQDt37sTZs2e1zpWbmwsHBwfk5OTA3t5e6/0QEZFpyC4o/bvc3DspueKcnZyi6m/3YGkuR1M32/s+dVVxcrKXoxWLTh3U5v1bskMjpaWlOH36NGbMmKFZJpfL0aNHDxw7dqzabUpKSqBUKists7KywpEjRyotS05OhqenJ5RKJTp06ICYmBj4+vo+NEtJSQlKSv53Ge/c3FxthkREREauoKQcybfzq1w48Hbew28F4e9iXeXCgX7O1jDnCcmSkqwAZWZmQqVSwcPDo9JyDw+Ph56v06tXLyxbtgxPP/00AgMDERsbi+3bt0Ol+t+hxMjISKxduxbBwcG4desW5s+fj86dOyM+Ph52dnbV7jcmJqbKeUNERGS6SsrvuxXEfdfTuf7Xw28F4e1kVelTV/duBaG04AnJ+sigTo5ZsWIFxo4di5CQEMhkMgQGBmLMmDFYs2aNZp0+ffpo/rt169aIjIyEn58ftmzZgldffbXa/c6YMQPR0dGax7m5ufDx8am/gRARkV5QqQWuZRVUvkJyRh6uZBY89FYQbnaKKjf3bOZhB1sDuxWEqZPst+Xq6gozMzNkZGRUWp6RkYFGjRpVu42bmxt27tyJ4uJiZGVlwdPTE9OnT0dAQMBDn8fR0RFBQUG4dOnSQ9dRKBRQKBTaDYSIiPSeEAI3c4r/N3X195+Xbuej5CG3grBTmiOkUeWTkYM87OBsJLeCMHWSFSBLS0uEh4cjNjYWgwYNAlBxEnRsbCzGjx//yG2VSiW8vLxQVlaGbdu2YdiwYQ9dNz8/H5cvX8bIkSN1GZ+IiPRUVn4JEu+fukqvuBVE3kNuBaG0kGvKzf1TWB72xn0rCFMn6fG66OhojB49Gu3atUNERASWL1+OgoICjBkzBgAwatQoeHl5ISYmBgBw4sQJpKWloU2bNkhLS8O7774LtVqNadOmafY5ZcoU9O/fH35+frh58ybmzZsHMzMzDB8+XJIxEhFR/cgrLkNSRv4DHzHPQ2Z+9beCMJf/fSuIRnYIvu/eV95O1jAzwVtBmDpJC9ALL7yAO3fuYO7cuUhPT0ebNm2wb98+zYnRqampkMv/d5Z8cXExZs+ejZSUFNja2iIqKgpff/01HB0dNevcuHEDw4cPR1ZWFtzc3NCpUyccP34cbm5uDT08IiLSgeKyiltBJN1336ukjHyk3a3+hGSZDPB1tq5yRKeJqw0szfnJK6og6XWA9BWvA0RE1PDKVGpcyypA4t/X0En6+6jO1awCPOR8ZDSyV1Y5otPU3RbWljwh2RQZxHWAiIjINKnVAml3i5D4wLV0Uu4UoFRV/QnJjtYWf98G4r6Tkt3t4GDNW0GQdliAiIioXgghcCfvgROSM/KRnJGHwtLqbwVhbWlWZeoqqJEt3Gx5QjLpFgsQERHVWU5hWUXRue8j5kkZebhb+JBbQZjJEehuWzF1dd+FA70crSDnCcnUAFiAiIioxgpLy5GckV+l6GTkVn8rCLkM8He1qXJzT38X3gqCpMUCRERE1crKL8HRy1lISs9Dwt9TWNezC/Gwj854OVpVublnoJstbwVBeokFiIiIKilTqbHut6tY/mMy8qu5eKCrrUJTcO6dq9PM3RZ2Sp6QTIaDBYiIiDROpGRh7q7zSMzIAwAEedgi3M+50rk6Lra8dRAZPhYgIiLC7bxixHyfgB1/pAEAnKwt8E7vEAxr58OTkskosQAREZmwcpUa/z12DR8fTEJeSTlkMmB4hC+mPhsMJ970k4wYCxARkYk6dfUvzNkZj4T0iumu1t4OWDgwFGE+jtIGI2oALEBERCbmTl4J3v8hAdvO3ABQcZXlab1C8EJ7H94UlEwGCxARkYkoV6mx4UQqPjqQiLziiumuF9v7YGqvEDhzuotMDAsQEZEJOH3tL8zZeR4XbuUCAFp5OWDBwJZo6+skcTIiabAAEREZscz8Eiz5IQFbT1dMdzlYWWBqr2AMj/DldBeZNBYgIiIjpFILbDxxDR/uT0RuccXFDF9o54NpvYN5HR8isAARERmdM6nZmLsrHvFpFdNdLT3tsWBgKML9ON1FdA8LEBGRkcjKL8EH+xKx+ffrAAA7pTmm9grGS5F+nO4iegALEBGRgVOpBb45mYoP9ycip6gMADAk3BvT+4TAldNdRNViASIiMmBx1+9izq54nLuRAwBo3tgeCwe2RDt/Z4mTEek3FiAiIgOUXVCKD/YnYtOpVAgB2CnMMfnZILz8pB/MzeRSxyPSeyxAREQGRK0W2Pz7dSzZl4C7hRXTXc8/4YXpfULgbqeUOB2R4WABIiIyEOdu3MWcXecRd/0uACCkkR0WDAxFRBNOdxHVFgsQEZGeu1tYig/3J2LjyYrpLluFOSb1DMLoDpzuItIWCxARkZ5SqwW2nr6O939IQPbf012D2nhiZlRzuNtzuouoLliAiIj0UHxaDmbvjMfZv6e7gjxssWBgKJ4McJE2GJGRYAEiItIjOYVl+OhAItafuAYhABtLs4rpro7+sOB0F5HOsAAREekBtVpg25kbeP+HBGQVlAIABoR5Ylbf5vDgdBeRzrEAERFJ7PzNHMzddR6nr2UDAJq622LBwJboGOgqcTIi48UCREQkkZyiMnx8MAn/PXYVagFYW5rh7R7N8ErHJrA053QXUX1iASIiamBCCGw/k4aYHy4iM79iuqtf68aY1bc5GjtYSZyOyDSwABERNaCLt3Ixd1c8Tl2tmO4KdLPBgoGheKopp7uIGhILEBFRA8gtvjfddQ0qtYCVhRkmdG+GVztxuotICixARET1SAiBnWfTsGhvAjLzSwAAUa0aYXbfFvB05HQXkVRYgIiI6klieh7m7IrHySt/AQACXG3w7oCWeDrITeJkRMQCRESkY3nFZVj+YzLW/nYVKrWA0kKOt7o1wz87N4HC3EzqeEQEFiAiIp0RQmB33E0s2nsRt/Mqprt6t2yE2f2aw9vJWuJ0RHQ/FiAiIh1IysjD3F3xOJ5SMd3l72KNdwe0RNdgd4mTEVF1WICIiOogv6Qc/xebjDVHrqD87+mu8c80xT87B0BpwekuIn3FAkREpAUhBL47dwvv7b2AjNyK6a5nW3hgTr8W8HHmdBeRvmMBIiKqpUu38zB313n8djkLAODrbI13B7RAtxAPiZMRUU2xABER1VBBSTn+76dkfPlrxXSXwlyON7s2xb+6cLqLyNCwABERPYYQAj/Ep2PhdxdwK6cYANCjuTvm9msJXxdOdxEZIhYgIqJHuHwnH+/uPo9fkzMBAD7OVpjXryV6tOB0F5EhYwEiIqpGYWk5PvnpEr74NQVlKgFLczne6BKIN7oGcrqLyAiwABER3UcIgf3n07FgzwXc/Hu665lgN7w7oCX8XGwkTkdEusICRET0tyuZBZi3+zwOJ90BAHg5WmFe/xbo2cIDMplM4nREpEssQERk8opKVfj050v4/HAKSlVqWJrJ8a8uAXiza1NYWXK6i8gYsQARkckSQuDAhQws2HMBaXeLAABPB7lh/oCWaOLK6S4iY8YCREQm6WpmAebvOY+fE/833TWnXwv0asnpLiJTwAJERCaluEyFVT9fwupfKqa7LMxkeO3pAIx7pimsLfmSSGQq+H87EZmMHy9k4N0953Eju2K6q3MzV8wf0BIBbrYSJyOihsYCRERGLzWrEPP3nEdswm0AQGMHJeb2a4HeoY043UVkoliAiMhoFZepsPqXy1h16DJKyyumu/7ZOQDjn2kKGwVf/ohMGV8BiMgo/ZSQgXd3X0DqX4UAgKeaumD+gFA0ded0FxGxABGRkbn+VyHm77mAHy9mAAA87BWY068F+rZqzOkuItJgASIio1BcpsLnh1Pw6c+XUFKuhrlchlc7NcFb3ZvBltNdRPQAvioQkcH7OfE23t19HteyKqa7OgS4YMHAlmjmYSdxMiLSVyxARGSwbmQXYsGeCzhwoWK6y91Ogdn9WqB/a053EdGjsQARkcEpKVfhP79ewcqfklFcpoaZXIZ/POWPCd2bwU5pIXU8IjIALEBEZFB+SbqDd3efx5XMAgBAZBNnLBgYiuBGnO4ioppjASIig5B2twjvfXcBP8SnAwDc7BSYFdUcA9t4crqLiGqNBYiI9FppuRr/OZKClbGXUFSmgplchtEd/PF2z2aw53QXEWmJBYiI9NaR5EzM3R2PlDsV013t/Z2wYGAomje2lzgZERk6FiAi0ju3corw3ncXsffPWwAAV1tLzIxqjufaenG6i4h0ggWIiPRGabkaXx29ghWxySgsVUEuA0Z18MeknkFwsOJ0FxHpDgsQEemF3y5lYu7u87h0Ox8AEO7nhIUDQ9HCk9NdRKR7cqkDfPrpp/D394dSqURkZCROnjz50HXLysqwYMECBAYGQqlUIiwsDPv27avTPolIWuk5xXjrmz8w4j8ncOl2PlxsLPHR0DBs/VcHlh8iqjeSFqDNmzcjOjoa8+bNw5kzZxAWFoZevXrh9u3b1a4/e/ZsfPbZZ1i5ciUuXLiA119/Hc899xz++OMPrfdJRNIoU6nxxeEUdF96CHvibkIuA0Z38MNPU7piSLg35HKe60NE9UcmhBBSPXlkZCTat2+PTz75BACgVqvh4+ODt956C9OnT6+yvqenJ2bNmoVx48Zplg0ePBhWVlZYv369VvusTm5uLhwcHJCTkwN7e/4LlEjXjl3Owtxd8Uj+e7qrra8jFg4MRaiXg8TJiMiQ1eb9W7JzgEpLS3H69GnMmDFDs0wul6NHjx44duxYtduUlJRAqVRWWmZlZYUjR45ovc97+y0pKdE8zs3N1WpMRPRot3OLsej7i9h19iYAwNnGEtN7h/CIDxE1OMmmwDIzM6FSqeDh4VFpuYeHB9LT06vdplevXli2bBmSk5OhVqtx8OBBbN++Hbdu3dJ6nwAQExMDBwcHzZePj08dR0dE9ytXqfGfX1PQbekv2HX2JmQy4OUnffHT5C4Y1t6H5YeIGpzkJ0HXxooVK9CsWTOEhITA0tIS48ePx5gxYyCX120YM2bMQE5Ojubr+vXrOkpMRCdSstD3/47gvb0XkV9SjjAfR+we1wnvDWoFR2tLqeMRkYmSbArM1dUVZmZmyMjIqLQ8IyMDjRo1qnYbNzc37Ny5E8XFxcjKyoKnpyemT5+OgIAArfcJAAqFAgqFoo4jIqL73c4rRsz3CdjxRxoAwMnaAu/0DsGwdjziQ0TSk+wIkKWlJcLDwxEbG6tZplarERsbiw4dOjxyW6VSCS8vL5SXl2Pbtm0YOHBgnfdJRLpRrqq4mGH3j37Bjj/SIJMBIyJ98dPkrngxwpflh4j0gqQXQoyOjsbo0aPRrl07REREYPny5SgoKMCYMWMAAKNGjYKXlxdiYmIAACdOnEBaWhratGmDtLQ0vPvuu1Cr1Zg2bVqN90lE9efU1b8wZ2c8EtLzAACtvR2wcGAownwcpQ1GRPQASQvQCy+8gDt37mDu3LlIT09HmzZtsG/fPs1JzKmpqZXO7ykuLsbs2bORkpICW1tbREVF4euvv4ajo2ON90lEuncnrwTv/5CAbWduAAAcrS0wrVcIXmjvAzMe8SEiPSTpdYD0Fa8DRFQz5So1NpxIxUcHEpFXXA4AGB7hg6m9QuBswxOciahhGcR1gIjIsJ2+9hfm7DyPC7cqrpsV6mWPhQND0dbXSeJkRESPxwJERLWSmV+CJT8kYOvpiukue6U5pvYOwYgIX053EZHBYAEiohpRqQU2nkzFh/sSkPv3dNewdt54p3cIXGx5GQkiMiwsQET0WH+kZmPOrnjEp1VMd7VobI+Fg0IR7sfpLiIyTCxARPRQfxWU4oN9Cdh0quLq6HZKc0ztFYyXIv043UVEBo0FiIiqUKkFNp1KxQf7EpFTVAYAGBLujel9QuDK6S4iMgIsQERUSdz1u5izKx7nbuQAAEIa2eG9QaFo5+8scTIiIt1hASIiAEB2QSk+2J+ITadSIQRgpzBH9LNBGPmkH8zNDOq+yUREj8UCRGTi1GqBzb9fx5J9CbhbWDHd9XxbL0yPCoG7nVLidERE9YMFiMiEnbtxF3N2nUfc9bsAgGAPOywY2BKRAS7SBiMiqmcsQEQm6G5hKT7cn4iNJyumu2wV5pjUMwijOvjBgtNdRGQCWICITIhaLbD19HUs2ZeIvwpKAQCD2nhiZlRzuNtzuouITAcLEJGJiE/LwZxd8fgj9S4AIMjDFgsGhuJJTncRkQliASIycjmFZVh6MBHrj1+DWgA2lmaY1DMIozv6c7qLiEwWCxCRkVKrBbaduYH3f0hA1t/TXQPCPDGrb3N4cLqLiEwcCxCRETp/Mwdzd53H6WvZAICm7rZYMKAlOjZ1lTgZEZF+YAEiMiI5RWX4+GAS/nvsKtQCsLY0w8TuzTDmqSawNOd0FxHRPSxAREZACIHtZ9IQ88NFZOZXTHf1bd0Ys/s2R2MHK4nTERHpHxYgIgNXWFqOV9f+jmMpWQCAADcbLBgQik7NON1FRPQwLEBEBm7JDwk4lpIFKwszTOjeDK924nQXEdHjsAARGbAjyZlYd+waAOCzkeF4OshN4kRERIaB/0wkMlA5RWWY+m0cAODlJ31ZfoiIaoEFiMhAzd9zHrdyiuHnYo2ZUc2ljkNEZFBYgIgM0P7z6dh+Jg0yGbB0aBisLTmbTURUGyxARAYmM78EM7f/CQD419OBaOfvLHEiIiLDwwJEZECEEJi1409kFZQipJEdJvVsJnUkIiKDxAJEZEB2/JGG/eczYGEmw9JhYVCYm0kdiYjIILEAERmIm3eLMG/XeQDAxO7N0NLTQeJERESGiwWIyACo1QLTvj2HvJJytPFxxOtdAqWORERk0FiAiAzA+hPXcORSJpQWciwdFgZzM/6vS0RUF3wVJdJzVzILsPj7iwCAd3qHINDNVuJERESGjwWISI+p1AKTt5xFcZkaHQNdMLqDv9SRiIiMAgsQkR777PBlnEm9CzuFOT4cGga5XCZ1JCIio8ACRKSnLt7KxccHkwAAc/u3gJejlcSJiIiMBwsQkR4qKVdh0uazKFMJ9GjugSHh3lJHIiIyKixARHpoxY/JSEjPg7ONJWKebwWZjFNfRES6xAJEpGdOX8vG6l8uAwAWDQqFm51C4kRERMaHBYhIjxSWlmPK1jioBTCojSf6tGosdSQiIqPEAkSkR5b8kIArmQVoZK/E/AGhUschIjJaLEBEeuLopUysO3YNAPDBkNZwsLaQOBERkfFiASLSAzlFZZiyNQ4A8PKTvng6yE3iRERExo0FiEgPzN9zHrdyiuHnYo2ZUc2ljkNEZPS0KkA///yzrnMQmaz959Ox/UwaZDJg6dAwWFuaSx2JiMjoaVWAevfujcDAQLz33nu4fv26rjMRmYzM/BLM3P4nAOC1pwPQzt9Z4kRERKZBqwKUlpaG8ePH49tvv0VAQAB69eqFLVu2oLS0VNf5iIyWEAKzdvyJrIJSBHvYIbpnkNSRiIhMhlYFyNXVFZMmTcLZs2dx4sQJBAUF4c0334SnpycmTJiAuLg4XeckMjo7/kjD/vMZsDCTYdkLYVCYm0kdiYjIZNT5JOgnnngCM2bMwPjx45Gfn481a9YgPDwcnTt3xvnz53WRkcjo3LxbhHm7K/7/mNi9GVp6OkiciIjItGhdgMrKyvDtt98iKioKfn5+2L9/Pz755BNkZGTg0qVL8PPzw9ChQ3WZlcgoqNUC0749h7zicrTxccTrXQKljkREZHK0+rjJW2+9hW+++QZCCIwcORIffPABQkP/d9VaGxsbfPTRR/D09NRZUCJjsf7ENRy5lAmlhRxLh4XB3IxXoyAiamhaFaALFy5g5cqVeP7556FQVH+jRldXV35cnugBVzILsPj7iwCAd3qHINDNVuJERESmSasCFBsb+/gdm5ujS5cu2uyeyCip1AKTt5xFcZkaHQJcMLqDv9SRiIhMllbH3mNiYrBmzZoqy9esWYMlS5bUORSRMfrs8GWcSb0LW4U5PhzaGnK5TOpIREQmS6sC9NlnnyEkJKTK8pYtW2L16tV1DkVkbC7eysXHB5MAAPP6t4C3k7XEiYiITJtWBSg9PR2NGzeustzNzQ23bt2qcygiY1Jarkb0ljiUqQR6NPfAkHBvqSMREZk8rQqQj48Pjh49WmX50aNH+ckvogesiE3CxVu5cLaxRMzzrSCTceqLiEhqWp0EPXbsWLz99tsoKytDt27dAFScGD1t2jRMnjxZpwGJDNmZ1Gz8+9BlAMCiQaFws6v+U5NERNSwtCpAU6dORVZWFt58803N/b+USiXeeecdzJgxQ6cBiQxVYWk5Jm+Jg1oAg9p4ok+rqtPGREQkDZkQQmi7cX5+Pi5evAgrKys0a9bsodcEMjS5ublwcHBATk4O7O3tpY5DBmrernisO3YNjeyV2P/203CwtpA6EhGRUavN+7dWR4DusbW1Rfv27euyCyKjdPRSJtYduwYAWDKkNcsPEZGe0boA/f7779iyZQtSU1M102D3bN++vc7BiAxVbnEZpm6NAwC8/KQvugS5SZyIiIgepNWnwDZt2oSOHTvi4sWL2LFjB8rKynD+/Hn89NNPcHDgXa3JtM3ffQE3c4rh52KNmVHNpY5DRETV0KoALV68GB9//DH27NkDS0tLrFixAgkJCRg2bBh8fX11nZHIYBw4n45tZ25AJgOWDg2DtWWdZpmJiKieaFWALl++jL59+wIALC0tUVBQAJlMhkmTJuHzzz/XaUAiQ5GZX4IZ2/8EALz2dADa+TtLnIiIiB5GqwLk5OSEvLw8AICXlxfi4+MBAHfv3kVhYaHu0hEZCCEEZu34E1kFpQj2sEN0zyCpIxER0SNodXz+6aefxsGDB9GqVSsMHToUEydOxE8//YSDBw+ie/fuus5IpPd2/JGG/eczYC6XYemwMCjMzaSOREREj6BVAfrkk09QXFwMAJg1axYsLCzw22+/YfDgwZg9e7ZOAxLpu5t3izBv93kAwMTuzRDqxQ8CEBHpu1oXoPLycnz33Xfo1asXAEAul2P69Ok6D0ZkCIQQeGfbOeQVlyPMxxFvdA2UOhIREdVArc8BMjc3x+uvv645AlRXn376Kfz9/aFUKhEZGYmTJ08+cv3ly5cjODgYVlZW8PHxwaRJkypleffddyGTySp9hYSE6CQr0YPWH7+GX5MzobSQY9mwMJibaXVaHRERNTCtpsAiIiJw9uxZ+Pn51enJN2/ejOjoaKxevRqRkZFYvnw5evXqhcTERLi7u1dZf+PGjZg+fTrWrFmDjh07IikpCa+88gpkMhmWLVumWa9ly5b48ccfNY/NzflRZNK9q5kFWPx9AgDgnd4hCHSzlTgRERHVlFbN4M0330R0dDSuX7+O8PBw2NjYVPp+69ata7SfZcuWYezYsRgzZgwAYPXq1di7dy/WrFlT7bTab7/9hqeeegojRowAAPj7+2P48OE4ceJE5UGZm6NRo0baDI2oRlRqgegtZ1FUpkKHABeM7uAvdSQiIqoFrQrQiy++CACYMGGCZplMJoMQAjKZDCqV6rH7KC0txenTpyvdPV4ul6NHjx44duxYtdt07NgR69evx8mTJxEREYGUlBR8//33GDlyZKX1kpOT4enpCaVSiQ4dOiAmJuaRF2gsKSlBSUmJ5nFubu5j85Np++zwZZxJvQtbhTk+HNoacrlM6khERFQLWhWgK1eu1PmJMzMzoVKp4OHhUWm5h4cHEhISqt1mxIgRyMzMRKdOnSCEQHl5OV5//XXMnDlTs05kZCTWrl2L4OBg3Lp1C/Pnz0fnzp0RHx8POzu7avcbExOD+fPn13lMZBou3srFxweTAABz+7eAt5O1xImIiKi2tCpAdT33R1uHDh3C4sWLsWrVKkRGRuLSpUuYOHEiFi5ciDlz5gAA+vTpo1m/devWiIyMhJ+fH7Zs2YJXX3212v3OmDED0dHRmse5ubnw8fGp38GQQSotVyN6SxzKVAI9mrtjaLi31JGIiEgLWhWg//73v4/8/qhRox67D1dXV5iZmSEjI6PS8oyMjIeevzNnzhyMHDkS//znPwEArVq1QkFBAV577TXMmjULcnnVT+A4OjoiKCgIly5demgWhUIBhULx2MxEK2KTcPFWLpxtLBHzfGvIZJz6IiIyRFoVoIkTJ1Z6XFZWhsLCQlhaWsLa2rpGBcjS0hLh4eGIjY3FoEGDAABqtRqxsbEYP358tdsUFhZWKTlmZhVX3BVCVLtNfn4+Ll++XOU8IaLaOpOajX8fugwAWDQoFG52LM1ERIZKqwKUnZ1dZVlycjLeeOMNTJ06tcb7iY6OxujRo9GuXTtERERg+fLlKCgo0HwqbNSoUfDy8kJMTAwAoH///li2bBnatm2rmQKbM2cO+vfvrylCU6ZMQf/+/eHn54ebN29i3rx5MDMzw/Dhw7UZKhEAoKhUhSlb4qAWwKA2nujTqrHUkYiIqA50doGcZs2a4f3338fLL7/80JOYH/TCCy/gzp07mDt3LtLT09GmTRvs27dPc2J0ampqpSM+s2fPhkwmw+zZs5GWlgY3Nzf0798fixYt0qxz48YNDB8+HFlZWXBzc0OnTp1w/PhxuLm56WqoZIKW7EtASmYBGtkrMX9AqNRxiIiojmTiYXNHWjh79iyefvppg/8YeW5uLhwcHJCTkwN7e3up45DEjl7KxEv/qbjW1Lp/RKBLEMs0EZE+qs37t1ZHgHbv3l3psRACt27dwieffIKnnnpKm10S6aXc4jJM3RoHAHgp0pflh4jISGhVgO6dtHyPTCaDm5sbunXrhqVLl+oiF5FemL/7Am7mFMPX2Rozo5pLHYeIiHREqwKkVqt1nYNI7xw4n45tZ25AJgOWDQuDjYL3lCMiMha8dTVRNbLySzBzx58AgNeeDkA7f2eJExERkS5pVYAGDx6MJUuWVFn+wQcfYOjQoXUORSQlIQRm7YhHZn4pgj3sEN0zSOpIRESkY1oVoMOHDyMqKqrK8j59+uDw4cN1DkUkpZ1n07DvfDrM5TIsHRYGhbmZ1JGIiEjHtCpA+fn5sLS0rLLcwsLC4D8CT6bt5t0izN11HgAwsXszhHo5SJyIiIjqg1YFqFWrVti8eXOV5Zs2bUKLFi3qHIpICkIIvLPtHPKKyxHm44g3ugZKHYmIiOqJVh9rmTNnDp5//nlcvnwZ3bp1AwDExsbim2++wdatW3UakKihrD9+Db8mZ0JhLsfSoWEwN+NnBIiIjJVWBah///7YuXMnFi9ejG+//RZWVlZo3bo1fvzxR3Tp0kXXGYnq3dXMAiz+vuIWLtP7hKCpu63EiYiIqD5pfWGTvn37om/fvrrMQiQJlVpg8tY4FJWp0CHABaM7+EsdiYiI6plWx/hPnTqFEydOVFl+4sQJ/P7773UORdSQPj+cgtPXsmGrMMeHQ1tDLpdJHYmIiOqZVgVo3LhxuH79epXlaWlpGDduXJ1DETWUi7dy8fHBJADA3P4t4O1kLXEiIiJqCFoVoAsXLuCJJ56osrxt27a4cOFCnUMRNYTScjWit8ShVKVGj+buGBruLXUkIiJqIFoVIIVCgYyMjCrLb926BXNz3i+JDMOK2CRcvJULJ2sLLH6+FWQyTn0REZkKrQrQs88+ixkzZiAnJ0ez7O7du5g5cyZ69uyps3BE9eVMajb+fegyAGDRc63gbqeUOBERETUkrQ7XfPTRR3j66afh5+eHtm3bAgDOnj0LDw8PfP311zoNSKRrRaUqTNkSB7UABrXxRFSrxlJHIiKiBqZVAfLy8sK5c+ewYcMGxMXFwcrKCmPGjMHw4cNhYWGh64xEOrVkXwJSMgvQyF6J+QNCpY5DREQS0PqEHRsbG3Tq1Am+vr4oLS0FAPzwww8AgAEDBugmHZGOHb2UibW/XQUALBnSGg7WLOxERKZIqwKUkpKC5557Dn/++SdkMhmEEJVOIFWpVDoLSKQrucVlmLo1DgDwUqQvugS5SZyIiIikotVJ0BMnTkSTJk1w+/ZtWFtbIz4+Hr/88gvatWuHQ4cO6TgikW7M330BN3OK4etsjZlRzaWOQ0REEtLqCNCxY8fw008/wdXVFXK5HGZmZujUqRNiYmIwYcIE/PHHH7rOSVQnB86nY9uZG5DJgKXDwmCj4OUaiIhMmVZHgFQqFezs7AAArq6uuHnzJgDAz88PiYmJuktHpANZ+SWYueNPAMBrnQPQ3t9Z4kRERCQ1rf4ZHBoairi4ODRp0gSRkZH44IMPYGlpic8//xwBAQG6zkikNSEEZu2IR2Z+KYI97DCpZ5DUkYiISA9oVYBmz56NgoICAMCCBQvQr18/dO7cGS4uLti8ebNOAxLVxc6zadh3Ph3mchmWDguD0sJM6khERKQHtCpAvXr10vx306ZNkZCQgL/++gtOTk68nQDpjVs5RZi76zwAYGL3Zgj1cpA4ERER6QudnQnq7MzzKkh/CCEw7dtzyCsuR5iPI97oGih1JCIi0iNanQRNpO/WH7+GX5MzoTCXY+nQMJib8a86ERH9D98VyOhczSzA4u8TAADv9A5BU3dbiRMREZG+YQEio6JSC0zeGoeiMhU6BLjglY7+UkciIiI9xAJERuXzwyk4fS0btgpzfDi0NeRynpRPRERVsQCR0UhIz8XHB5MAAHP7t4C3k7XEiYiISF+xAJFRKC1XY9LmOJSq1OjR3B1Dw72ljkRERHqMBYiMwv/FJuPirVw4WVtg8fOteD0qIiJ6JBYgMnhnUrOx6tAlAMCi51rB3U4pcSIiItJ3LEBk0IpKVZiyJQ5qAQxs44moVo2ljkRERAaABYgM2pJ9CUjJLICHvQILBoRKHYeIiAwECxAZrKOXMrH2t6sAgA+GhMHB2kLaQEREZDBYgMgg5RaXYerWOADAS5G+6BLkJnEiIiIyJCxAZJAW7LmAmznF8HW2xsyo5lLHISIiA8MCRAbn4IUMfHv6BmQyYOmwMNgozKWOREREBoYFiAxKVn4JZmw/BwB4rXMA2vs7S5yIiIgMEQsQGQwhBGbtiEdmfimCPGwxqWeQ1JGIiMhAsQCRwdh5Ng37zqfDXC7DsmFtoLQwkzoSEREZKBYgMgi3coowd9d5AMDE7s0Q6uUgcSIiIjJkLECk94QQmPbtOeQVlyPMxxFvdA2UOhIRERk4FiDSe+tPpOLX5EwozOVYOjQM5mb8a0tERHXDdxLSa1czC7B470UAwDu9Q9DU3VbiREREZAxYgEhvqdQCk7fGoahMhQ4BLnilo7/UkYiIyEiwAJHe+vxwCk5fy4atwhwfDm0NuVwmdSQiIjISLECklxLSc/HxwSQAwNz+LeDtZC1xIiIiMiYsQKR3SsvVmLQ5DqUqNXo0d8fQcG+pIxERkZFhASK983+xybh4KxdO1hZY/HwryGSc+iIiIt1iASK98kdqNlYdugQAWPRcK7jbKSVORERExogFiPRGUakKk7fEQS2AgW08EdWqsdSRiIjISLEAkd5Ysi8BKZkF8LBXYMGAUKnjEBGREWMBIr1w9FIm1v52FQCwZHBrOFhbSBuIiIiMGgsQSS63uAxTt8YBAF6K9EXXYHeJExERkbFjASLJLdhzATdziuHrbI2ZUc2ljkNERCaABYgkdfBCBr49fQMyGbB0WBhsFOZSRyIiIhPAAkSSycovwYzt5wAAr3UOQHt/Z4kTERGRqWABIkkIITB7Zzwy80sR5GGLST2DpI5EREQmhAWIJLHr7E38EJ8Oc7kMy4a1gdLCTOpIRERkQliAqMHdyinCnF3xAIAJ3Zsh1MtB4kRERGRqWICoQQkhMO3bc8grLkeYjyPe7BoodSQiIjJBLEDUoNafSMWvyZlQmMuxdGgYzM34V5CIiBqe5O8+n376Kfz9/aFUKhEZGYmTJ08+cv3ly5cjODgYVlZW8PHxwaRJk1BcXFynfVLDuJpZgMV7LwIA3ukdgqbuthInIiIiUyVpAdq8eTOio6Mxb948nDlzBmFhYejVqxdu375d7fobN27E9OnTMW/ePFy8eBFffvklNm/ejJkzZ2q9T2oYKrXAlK1xKCpToUOAC17p6C91JCIiMmEyIYSQ6skjIyPRvn17fPLJJwAAtVoNHx8fvPXWW5g+fXqV9cePH4+LFy8iNjZWs2zy5Mk4ceIEjhw5otU+q5ObmwsHBwfk5OTA3t6+rsMkAKt/uYz3f0iArcIc+97uDG8na6kjERGRkanN+7dkR4BKS0tx+vRp9OjR439h5HL06NEDx44dq3abjh074vTp05oprZSUFHz//feIiorSep8AUFJSgtzc3EpfpDsJ6blYdiAJADC3XwuWHyIikpxk9x3IzMyESqWCh4dHpeUeHh5ISEiodpsRI0YgMzMTnTp1ghAC5eXleP311zVTYNrsEwBiYmIwf/78Oo6IqlNarsakzXEoVanRPcQdQ9t5Sx2JiIhI+pOga+PQoUNYvHgxVq1ahTNnzmD79u3Yu3cvFi5cWKf9zpgxAzk5OZqv69ev6ygx/V9sMi7eyoWTtQViBreCTCaTOhIREZF0R4BcXV1hZmaGjIyMSsszMjLQqFGjareZM2cORo4ciX/+858AgFatWqGgoACvvfYaZs2apdU+AUChUEChUNRxRPSgP1KzserQJQDAoudawd1OKXEiIiKiCpIdAbK0tER4eHilE5rVajViY2PRoUOHarcpLCyEXF45splZxS0UhBBa7ZPqR1GpCpO3xEEtgIFtPBHVqrHUkYiIiDQkOwIEANHR0Rg9ejTatWuHiIgILF++HAUFBRgzZgwAYNSoUfDy8kJMTAwAoH///li2bBnatm2LyMhIXLp0CXPmzEH//v01Rehx+6SGsWRfAlIyC+Bhr8CCAaFSxyEiIqpE0gL0wgsv4M6dO5g7dy7S09PRpk0b7Nu3T3MSc2pqaqUjPrNnz4ZMJsPs2bORlpYGNzc39O/fH4sWLarxPqn+/XYpE2t/uwoAWDK4NRysLaQNRERE9ABJrwOkr3gdIO3lFpehz/JfkXa3CCMifbH4uVZSRyIiIhNhENcBIuO0YM8FpN0tgq+zNWZFNZc6DhERUbVYgEhnDl7IwLenb0AmA5YOC4ONQtIZViIioodiASKdyMovwYzt5wAAr3UOQHt/Z4kTERERPRwLENWZEAKzd8YjM78UQR62mNQzSOpIREREj8QCRHW26+xN/BCfDnO5DMuGtYHSwkzqSERERI/EAkR1kp5TjLm74gEAE7o3Q6iXg8SJiIiIHo8FiLQmhMC0beeQW1yOMG8HvNk1UOpIRERENcICRFrbcCIVh5PuQGEux9JhbWBuxr9ORERkGPiORVq5mlmARXsvAgDe6R2Cpu62EiciIiKqORYgqjWVWmDK1jgUlanQIcAFr3T0lzoSERFRrbAAUa198WsKfr+WDVuFOT4c2hpyuUzqSERERLXCAkS1kpCei2UHkgAAc/u1gLeTtcSJiIiIao8FiGqstFyN6M1xKFWp0T3EHUPbeUsdiYiISCssQFRjK39KxoVbuXCytkDM4FaQyTj1RUREhokFiGrkj9RsrDp0GQDw3qBWcLdTSpyIiIhIeyxA9FhFpSpM3hIHlVpgYBtP9G3dWOpIREREdcICRI+1ZF8CUjIL4GGvwIIBoVLHISIiqjMWIHqk3y5lYu1vVwEASwa3hoO1hbSBiIiIdIAFiB4qt7gMU789BwAYEemLrsHuEiciIiLSDRYgeqiFey4g7W4RfJ2tMSuqudRxiIiIdIYFiKr144UMbD19AzIZ8NHQMNgozKWOREREpDMsQFRFVn4Jpm+vmPoa2zkAEU2cJU5ERESkWyxAVIkQArN3xiMzvxRBHraI7hkkdSQiIiKdYwGiSnadvYkf4tNhLpdh2bA2UFqYSR2JiIhI51iASCM9pxhzd8UDACZ0b4ZQLweJExEREdUPFiACUDH1NW3bOeQWlyPM2wFvdg2UOhIREVG9YQEiAMCGE6k4nHQHCnM5lg5rA3Mz/tUgIiLjxXc5wrWsAiz+/iIAYFrvEDR1t5U4ERERUf1iATJxKrXA5C1xKCxV4ckAZ4zp6C91JCIionrHAmTivvg1Bb9fy4atwhwfDgmDXC6TOhIREVG9YwEyYQnpuVh2IAkAMLdfC/g4W0uciIiIqGGwAJmo0nI1ojfHoVSlRvcQdwxt5y11JCIiogbDAmSiVv6UjAu3cuFkbYGYwa0gk3Hqi4iITAcLkAk6e/0uVh26DAB4b1AruNspJU5ERETUsFiATExxmQrRW85CpRYYEOaJvq0bSx2JiIiowbEAmZgl+xKQcqcA7nYKLBjYUuo4REREkmABMiG/XcrEV0evAgA+GNIajtaW0gYiIiKSCAuQicgtLsPUb88BAEZE+qJrsLvEiYiIiKTDAmQiFu65gLS7RfB1tsasqOZSxyEiIpIUC5AJ+PFCBraevgGZDPhoaBhsFOZSRyIiIpIUC5CR+6ugFNO3/wkAGNs5ABFNnCVOREREJD0WICMmhMDsnX8iM78EQR62iO4ZJHUkIiIivcACZMR2x93E93+mw1wuw7JhbaC0MJM6EhERkV5gATJS6TnFmLMzHgAwoXszhHo5SJyIiIhIf7AAGSEhBKZtO4fc4nKEeTvgza6BUkciIiLSKyxARmjDiVQcTroDhbkcS4e1gbkZf81ERET34zujkbmWVYDF318EAEzrHYKm7rYSJyIiItI/LEBGRKUWmLwlDoWlKjwZ4IwxHf2ljkRERKSXWICMyH9+TcHv17JhqzDHh0PCIJfLpI5ERESkl1iAjERieh6WHkgCAMzp1xw+ztYSJyIiItJfLEBGoLRcjUmbz6JUpUb3EHcMa+cjdSQiIiK9xgJkBFb+lIwLt3LhZG2BmMGtIJNx6ouIiOhRWIAM3Nnrd7Hq0GUAwHuDWsHdTilxIiIiIv3HAmTAistUiN5yFiq1wIAwT/Rt3VjqSERERAaBBciALdmXgJQ7BXC3U2DBwJZSxyEiIjIYLEAG6rfLmfjq6FUAwJIhreFobSltICIiIgPCAmSA8orLMHXrOQDA8AhfPBPsLnEiIiIiw8ICZIAW7LmAtLtF8HW2xuy+zaWOQ0REZHBYgAzMjxcysPX0DchkwEdDw2CjMJc6EhERkcFhATIgfxWUYvr2PwEAYzsHIKKJs8SJiIiIDBMLkIEQQmD2zj+RmV+CIA9bRPcMkjoSERGRwWIBMhC7427i+z/TYS6XYdmwNlBamEkdiYiIyGCxABmA9JxizNkZDwB4q1szhHo5SJyIiIjIsLEA6TkhBN7Zdg65xeVo7e2AN58JlDoSERGRwWMB0nMbT6bil6Q7UJjLsWxYGCzM+CsjIiKqK76b6rFrWQVYtPciAGBa7xA0dbeTOBEREZFxYAHSUyq1wOQtcSgsVeHJAGeM6egvdSQiIiKjoRcF6NNPP4W/vz+USiUiIyNx8uTJh67btWtXyGSyKl99+/bVrPPKK69U+X7v3r0bYig6859fU/D7tWzYKszx4ZAwyOUyqSMREREZDckvI7x582ZER0dj9erViIyMxPLly9GrVy8kJibC3b3qPa62b9+O0tJSzeOsrCyEhYVh6NChldbr3bs3vvrqK81jhUJRf4PQscT0PCw9kAQAmNOvOXycrSVOREREZFwkPwK0bNkyjB07FmPGjEGLFi2wevVqWFtbY82aNdWu7+zsjEaNGmm+Dh48CGtr6yoFSKFQVFrPycmpIYZTZ6XlakRvOYtSlRrdQtwxrJ2P1JGIiIiMjqQFqLS0FKdPn0aPHj00y+RyOXr06IFjx47VaB9ffvklXnzxRdjY2FRafujQIbi7uyM4OBhvvPEGsrKyHrqPkpIS5ObmVvqSyic/JeP8zVw4Wlvg/edbQSbj1BcREZGuSVqAMjMzoVKp4OHhUWm5h4cH0tPTH7v9yZMnER8fj3/+85+Vlvfu3Rv//e9/ERsbiyVLluCXX35Bnz59oFKpqt1PTEwMHBwcNF8+PtIcdTl7/S4+PXQZALBoUCu42yslyUFERGTsJD8HqC6+/PJLtGrVChEREZWWv/jii5r/btWqFVq3bo3AwEAcOnQI3bt3r7KfGTNmIDo6WvM4Nze3wUtQcZkK0VvOQqUWGBDmib6tGzfo8xMREZkSSY8Aubq6wszMDBkZGZWWZ2RkoFGjRo/ctqCgAJs2bcKrr7762OcJCAiAq6srLl26VO33FQoF7O3tK301tCX7EpBypwDudgosGNiywZ+fiIjIlEhagCwtLREeHo7Y2FjNMrVajdjYWHTo0OGR227duhUlJSV4+eWXH/s8N27cQFZWFho31s+jKr9dzsRXR68CAJYMaQ1Ha0tpAxERERk5yT8FFh0djS+++ALr1q3DxYsX8cYbb6CgoABjxowBAIwaNQozZsyost2XX36JQYMGwcXFpdLy/Px8TJ06FcePH8fVq1cRGxuLgQMHomnTpujVq1eDjKk28orLMHXrOQDA8AhfPBNc9aP/REREpFuSnwP0wgsv4M6dO5g7dy7S09PRpk0b7Nu3T3NidGpqKuTyyj0tMTERR44cwYEDB6rsz8zMDOfOncO6detw9+5deHp64tlnn8XChQv18lpAC7+7gLS7RfBxtsKsvs2ljkNERGQSZEIIIXUIfZObmwsHBwfk5OTU6/lAP17IwD//+ztkMmDzax0Q0cS53p6LiIjI2NXm/VvyKTBT9VdBKaZv/xMAMLZzAMsPERFRA2IBkoAQArN3/onM/BIEedgiumeQ1JGIiIhMCguQBHbH3cT3f6bDXC7DsmFtoLQwkzoSERGRSWEBamDpOcWYszMeAPBWt2YI9XKQOBEREZHpYQFqQEIIvLPtHHKLy9Ha2wFvPhModSQiIiKTxALUgDaeTMUvSXdgaS7HsmFhsDDjj5+IiEgKfAduQOUqAUszOd7pHYKm7nZSxyEiIjJZkl8I0ZSM7uiPLkFu8HW2ljoKERGRSWMBamD+rjZSRyAiIjJ5nAIjIiIik8MCRERERCaHBYiIiIhMDgsQERERmRwWICIiIjI5LEBERERkcliAiIiIyOSwABEREZHJYQEiIiIik8MCRERERCaHBYiIiIhMDgsQERERmRwWICIiIjI5vBt8NYQQAIDc3FyJkxAREVFN3Xvfvvc+/igsQNXIy8sDAPj4+EichIiIiGorLy8PDg4Oj1xHJmpSk0yMWq3GzZs3YWdnB5lMptN95+bmwsfHB9evX4e9vb1O962POF7jxvEaN47XuBnjeIUQyMvLg6enJ+TyR5/lwyNA1ZDL5fD29q7X57C3tzeav3A1wfEaN47XuHG8xs3Yxvu4Iz/38CRoIiIiMjksQERERGRyWIAamEKhwLx586BQKKSO0iA4XuPG8Ro3jte4mdp4H8SToImIiMjk8AgQERERmRwWICIiIjI5LEBERERkcliAiIiIyOSwANXRp59+Cn9/fyiVSkRGRuLkyZOPXH/58uUIDg6GlZUVfHx8MGnSJBQXF9dpnw1J1+ONiYlB+/btYWdnB3d3dwwaNAiJiYn1PYwaq4/f7z3vv/8+ZDIZ3n777XpIrp36GG9aWhpefvlluLi4wMrKCq1atcLvv/9en8OoMV2PV6VSYc6cOWjSpAmsrKwQGBiIhQsX1ui+RA2lNmMuKyvDggULEBgYCKVSibCwMOzbt69O+2xouh6vMb1m1fT3e48+vmbViSCtbdq0SVhaWoo1a9aI8+fPi7FjxwpHR0eRkZFR7fobNmwQCoVCbNiwQVy5ckXs379fNG7cWEyaNEnrfTak+hhvr169xFdffSXi4+PF2bNnRVRUlPD19RX5+fkNNayHqo/x3nPy5Enh7+8vWrduLSZOnFjPI6mZ+hjvX3/9Jfz8/MQrr7wiTpw4IVJSUsT+/fvFpUuXGmpYD1Uf4120aJFwcXER3333nbhy5YrYunWrsLW1FStWrGioYT1Sbcc8bdo04enpKfbu3SsuX74sVq1aJZRKpThz5ozW+2xI9TFeY3rNqsl479HH16y6YgGqg4iICDFu3DjNY5VKJTw9PUVMTEy1648bN05069at0rLo6Gjx1FNPab3PhlQf433Q7du3BQDxyy+/6CZ0HdTXePPy8kSzZs3EwYMHRZcuXfTmxaQ+xvvOO++ITp061U/gOqqP8fbt21f84x//qLTO888/L1566SUdJtdebcfcuHFj8cknn1Ra9uB4jOk1qybjfZAhv2bVdLz6+ppVV5wC01JpaSlOnz6NHj16aJbJ5XL06NEDx44dq3abjh074vTp05pDkikpKfj+++8RFRWl9T4bSn2Mtzo5OTkAAGdnZx2mr736HO+4cePQt2/fSvuWWn2Nd/fu3WjXrh2GDh0Kd3d3tG3bFl988UX9DqYG6mu8HTt2RGxsLJKSkgAAcXFxOHLkCPr06VOPo6kZbcZcUlICpVJZaZmVlRWOHDmi9T4bSn2MtzqG/JpV0/Hq42uWLvBmqFrKzMyESqWCh4dHpeUeHh5ISEiodpsRI0YgMzMTnTp1ghAC5eXleP311zFz5kyt99lQ6mO8D1Kr1Xj77bfx1FNPITQ0VOdjqI36Gu+mTZtw5swZnDp1ql7z11Z9jTclJQX//ve/ER0djZkzZ+LUqVOYMGECLC0tMXr06Hod06PU13inT5+O3NxchISEwMzMDCqVCosWLcJLL71Ur+OpCW3G3KtXLyxbtgxPP/00AgMDERsbi+3bt0OlUmm9z4ZSH+N9kKG/ZtVkvPr6mqULPALUgA4dOoTFixdj1apVOHPmDLZv3469e/di4cKFUkerF7Ud77hx4xAfH49NmzY1cFLdeNx4r1+/jokTJ2LDhg1V/tVliGry+1Wr1XjiiSewePFitG3bFq+99hrGjh2L1atXS5hcOzUZ75YtW7BhwwZs3LgRZ86cwbp16/DRRx9h3bp1EibX3ooVK9CsWTOEhITA0tIS48ePx5gxYyCXG+dbR23Ha+ivWY8br7G9ZlUh6QScASspKRFmZmZix44dlZaPGjVKDBgwoNptOnXqJKZMmVJp2ddffy2srKyESqXSap8NpT7Ge79x48YJb29vkZKSotPc2qqP8e7YsUMAEGZmZpovAEImkwkzMzNRXl5eX8N5rPr6/fr6+opXX3210jqrVq0Snp6euguvhfoar7e3d5VzKhYuXCiCg4N1F15LdXl9KSoqEjdu3BBqtVpMmzZNtGjRos77rG/1Md77GcNr1j0PG68+v2bpgnHW+AZgaWmJ8PBwxMbGapap1WrExsaiQ4cO1W5TWFhY5V8SZmZmAAAhhFb7bCj1Md57f44fPx47duzATz/9hCZNmtTTCGqnPsbbvXt3/Pnnnzh79qzmq127dnjppZdw9uxZzbpSqK/f71NPPVXlI8JJSUnw8/PTZfxaq6/xPmwdtVqty/haqcvri1KphJeXF8rLy7Ft2zYMHDiwzvusb/UxXsC4XrPuedh49fk1SyckLF8Gb9OmTUKhUIi1a9eKCxcuiNdee004OjqK9PR0IYQQI0eOFNOnT9esP2/ePGFnZye++eYbkZKSIg4cOCACAwPFsGHDarxPKdXHeN944w3h4OAgDh06JG7duqX5KiwsbPDxPag+xvsgffpERX2M9+TJk8Lc3FwsWrRIJCcniw0bNghra2uxfv36Bh/fg+pjvKNHjxZeXl6aj8Fv375duLq6imnTpjX4+KpT2zEfP35cbNu2TVy+fFkcPnxYdOvWTTRp0kRkZ2fXeJ9Sqo/xGtNrVk3G+yB9es2qKxagOlq5cqXw9fUVlpaWIiIiQhw/flzzvS5duojRo0drHpeVlYl3331XBAYGCqVSKXx8fMSbb75Z5S/bo/YpNV2PF0C1X1999VXDDeoR6uP3ez99ezGpj/Hu2bNHhIaGCoVCIUJCQsTnn3/eQKN5PF2PNzc3V0ycOFH4+voKpVIpAgICxKxZs0RJSUkDjurRajPmQ4cOiebNmwuFQiFcXFzEyJEjRVpaWq32KTVdj9eYXrNq+vu9n769ZtWFTAg9ukQpERERUQPgOUBERERkcliAiIiIyOSwABEREZHJYQEiIiIik8MCRERERCaHBYiIiIhMDgsQERERmRwWICIyGlevXoVMJsPZs2drvM3atWvh6OhYb5mISD+xABEREZHJYQEiIiIik8MCREQGZd++fejUqRMcHR3h4uKCfv364fLly9Wue+jQIchkMuzduxetW7eGUqnEk08+ifj4+Crr7t+/H82bN4etrS169+6NW7duab536tQp9OzZE66urnBwcECXLl1w5syZehsjEdU/FiAiMigFBQWIjo7G77//jtjYWMjlcjz33HNQq9UP3Wbq1KlYunQpTp06BTc3N/Tv3x9lZWWa7xcWFuKjjz7C119/jcOHDyM1NRVTpkzRfD8vLw+jR4/GkSNHcPz4cTRr1gxRUVHIy8ur17ESUf0xlzoAEVFtDB48uNLjNWvWwM3NDRcuXICtrW2128ybNw89e/YEAKxbtw7e3t7YsWMHhg0bBgAoKyvD6tWrERgYCAAYP348FixYoNm+W7dulfb3+eefw9HREb/88gv69euns7ERUcPhESAiMijJyckYPnw4AgICYG9vD39/fwBAamrqQ7fp0KGD5r+dnZ0RHByMixcvapZZW1tryg8ANG7cGLdv39Y8zsjIwNixY9GsWTM4ODjA3t4e+fn5j3xOItJvPAJERAalf//+8PPzwxdffAFPT0+o1WqEhoaitLRU631aWFhUeiyTySCE0DwePXo0srKysGLFCvj5+UGhUKBDhw51ek4ikhYLEBEZjKysLCQmJuKLL75A586dAQBHjhx57HbHjx+Hr68vACA7OxtJSUlo3rx5jZ/36NGjWLVqFaKiogAA169fR2ZmphYjICJ9wQJERAbDyckJLi4u+Pzzz9G4cWOkpqZi+vTpj91uwYIFcHFxgYeHB2bNmgVXV1cMGjSoxs/brFkzfP3112jXrh1yc3MxdepUWFlZ1WEkRCQ1ngNERAZDLpdj06ZNOH36NEJDQzFp0iR8+OGHj93u/fffx8SJExEeHo709HTs2bMHlpaWNX7eL7/8EtnZ2XjiiScwcuRITJgwAe7u7nUZChFJTCbun+gmIjIihw4dwjPPPIPs7Gze7oKIKuERICIiIjI5LEBERERkcjgFRkRERCaHR4CIiIjI5LAAERERkclhASIiIiKTwwJEREREJocFiIiIiEwOCxARERGZHBYgIiIiMjksQERERGRyWICIiIjI5Pw/A59klDfLAgcAAAAASUVORK5CYII=",
      "text/plain": [
       "<Figure size 640x480 with 1 Axes>"
      ]
     },
     "metadata": {},
     "output_type": "display_data"
    }
   ],
   "source": [
    "# plotting the points \n",
    "plt.plot(alpha_list, accuracy_results)\n",
    "plt.xlabel('alpha')\n",
    "plt.ylabel('accuracy')\n",
    "plt.title('PCA - Part 8 - Bonus')\n",
    "plt.show() "
   ]
  },
  {
   "cell_type": "code",
   "execution_count": 47,
   "metadata": {},
   "outputs": [
    {
     "data": {
      "image/png": "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",
      "text/plain": [
       "<Figure size 640x480 with 1 Axes>"
      ]
     },
     "metadata": {},
     "output_type": "display_data"
    },
    {
     "name": "stdout",
     "output_type": "stream",
     "text": [
      "[0.8  0.85 0.9  0.95]\n",
      "[74.16666667 88.33333333 94.16666667 95.83333333]\n",
      "[76.  78.5 86.  91.5]\n"
     ]
    }
   ],
   "source": [
    "alpha_list = np.array([0.8, 0.85, 0.9, 0.95])\n",
    "accuracyOfEqualSplit = np.array([76.0, 78.5, 86.0, 91.5])\n",
    "accuracyOfDifferentSplit = np.array([74.16666666666667, 88.33333333333333, 94.16666666666667, 95.83333333333334])\n",
    "\n",
    "fig, ax = plt.subplots()\n",
    "\n",
    "# Plot both lines on the same axes\n",
    "ax.plot(alpha_list, accuracyOfEqualSplit, color='tab:blue', label='50-50 split')\n",
    "ax.plot(alpha_list, accuracyOfDifferentSplit, color='tab:red', label='70-30 split')\n",
    "\n",
    "# Set labels and title\n",
    "ax.set_xlabel('alpha')\n",
    "ax.set_ylabel('accuracy')\n",
    "plt.title('Comparison between splits')\n",
    "\n",
    "# Add a legend\n",
    "ax.legend()\n",
    "\n",
    "plt.show()\n",
    "\n",
    "print(alpha_list)\n",
    "print(accuracyOfDifferentSplit)\n",
    "print(accuracyOfEqualSplit)"
   ]
  }
 ],
 "metadata": {
  "kernelspec": {
   "display_name": "Python 3",
   "language": "python",
   "name": "python3"
  },
  "language_info": {
   "codemirror_mode": {
    "name": "ipython",
    "version": 3
   },
   "file_extension": ".py",
   "mimetype": "text/x-python",
   "name": "python",
   "nbconvert_exporter": "python",
   "pygments_lexer": "ipython3",
   "version": "3.12.1"
  }
 },
 "nbformat": 4,
 "nbformat_minor": 2
}
