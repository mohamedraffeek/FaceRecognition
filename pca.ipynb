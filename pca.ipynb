{
 "cells": [
  {
   "cell_type": "code",
   "execution_count": 4,
   "metadata": {},
   "outputs": [],
   "source": [
    "import numpy"
   ]
  },
  {
   "cell_type": "code",
   "execution_count": null,
   "metadata": {},
   "outputs": [],
   "source": [
    "def load_pgm_as_vector(filename):\n",
    "  \"\"\"\n",
    "  Reads a PGM image file and returns a flattened NumPy array (vector) of pixel values.\n",
    "\n",
    "  Args:\n",
    "      filename: The path to the PGM file.\n",
    "\n",
    "  Returns:\n",
    "      A NumPy array, flattened as a vector, representing the image data.\n",
    "  \"\"\"\n",
    "  img = cv2.imread(filename, cv2.IMREAD_UNCHANGED)\n",
    "  if img is None:\n",
    "    raise ValueError(f\"Error: Could not read image '{filename}'.\")\n",
    "  return img.flatten()"
   ]
  }
 ],
 "metadata": {
  "kernelspec": {
   "display_name": "Python 3",
   "language": "python",
   "name": "python3"
  },
  "language_info": {
   "codemirror_mode": {
    "name": "ipython",
    "version": 3
   },
   "file_extension": ".py",
   "mimetype": "text/x-python",
   "name": "python",
   "nbconvert_exporter": "python",
   "pygments_lexer": "ipython3",
   "version": "3.11.6"
  }
 },
 "nbformat": 4,
 "nbformat_minor": 2
}
