{
 "cells": [
  {
   "cell_type": "markdown",
   "id": "51e596e9-ccc3-441f-b9c0-ffaa5d8ff828",
   "metadata": {},
   "source": [
    "# Linear Discreminant Analysis"
   ]
  },
  {
   "cell_type": "markdown",
   "id": "4492fc11-b7e8-4364-b1a8-10f7d8d34e87",
   "metadata": {},
   "source": [
    "Import the required libraries"
   ]
  },
  {
   "cell_type": "code",
   "execution_count": 1,
   "id": "b9e9ced9-af09-4e69-afe6-dbc4f5f59a5e",
   "metadata": {},
   "outputs": [],
   "source": [
    "import numpy as np\n",
    "import scipy as sp\n",
    "from sklearn.metrics import accuracy_score\n",
    "from sklearn.neighbors import KNeighborsClassifier\n",
    "import DatasetSplitter as ds\n",
    "\n",
    "training_data, training_labels, testing_data, testing_labels = ds.splitData()"
   ]
  },
  {
   "cell_type": "markdown",
   "id": "b4d717f7-87ab-47ad-9176-f8bda9b5bdc2",
   "metadata": {},
   "source": [
    "Split the training data into 40 classes"
   ]
  },
  {
   "cell_type": "code",
   "execution_count": 2,
   "id": "e54758b9-3d39-4447-ba4b-a798704b6916",
   "metadata": {},
   "outputs": [],
   "source": [
    "def split_data(training_data):\n",
    "    mat = np.array(training_data)\n",
    "    return np.split(mat, indices_or_sections=40)"
   ]
  },
  {
   "cell_type": "markdown",
   "id": "e326d7c2-595e-4584-b264-c04fe17e4ef6",
   "metadata": {},
   "source": [
    "Calculate the class means"
   ]
  },
  {
   "cell_type": "code",
   "execution_count": 3,
   "id": "9ce7b479-ddf5-4442-8731-d65da0e13460",
   "metadata": {},
   "outputs": [],
   "source": [
    "def get_class_means(split_data):\n",
    "    return np.mean(split_data, axis=1)"
   ]
  },
  {
   "cell_type": "markdown",
   "id": "fc6636a7-46ee-47d8-bcec-7bc5c08cd5a7",
   "metadata": {},
   "source": [
    "Calculate the overall mean"
   ]
  },
  {
   "cell_type": "code",
   "execution_count": 4,
   "id": "2277db18-4062-447b-aa0b-6b863dca6ba9",
   "metadata": {},
   "outputs": [],
   "source": [
    "def get_overall_mean(training_data):\n",
    "    return np.mean(training_data, axis=0)"
   ]
  },
  {
   "cell_type": "markdown",
   "id": "5cd2ac6e-425f-45ce-ac68-6cd64b2405f1",
   "metadata": {},
   "source": [
    "Calculate the centered classes matrix"
   ]
  },
  {
   "cell_type": "code",
   "execution_count": 6,
   "id": "7a3108ae-74b4-49c5-a2d3-954c1cf2abab",
   "metadata": {},
   "outputs": [],
   "source": [
    "def get_centered_classes(split_data, class_means):\n",
    "    centered_classes = []\n",
    "    for class_matrix, class_mean in zip(split_data, class_means):\n",
    "        centered_class = []\n",
    "        for row in class_matrix:\n",
    "            centered_class.append(row - class_mean)\n",
    "        centered_classes.append(centered_class)\n",
    "    return centered_classes"
   ]
  },
  {
   "cell_type": "markdown",
   "id": "1f916538-2c69-4167-98cb-1b433408c981",
   "metadata": {},
   "source": [
    "Calculate the between-class scatter matrix (Sb)"
   ]
  },
  {
   "cell_type": "code",
   "execution_count": 7,
   "id": "82669fe6-d0ca-43ba-a975-f60189a7254d",
   "metadata": {},
   "outputs": [],
   "source": [
    "def get_between_class(class_means, overall_mean):\n",
    "    Sb = np.zeros((10304, 10304))\n",
    "    for class_mean in class_means:\n",
    "        Sb += 5 * np.outer(class_mean - overall_mean, class_mean - overall_mean)\n",
    "    return Sb"
   ]
  },
  {
   "cell_type": "markdown",
   "id": "4fab8487-2882-44bd-bf1e-5bc895471bb7",
   "metadata": {},
   "source": [
    "Calculate the within-class scatter matrix and its inverse (Sw, Sw-1)"
   ]
  },
  {
   "cell_type": "code",
   "execution_count": 8,
   "id": "b97ff801-9009-4b3a-843b-bf4f914ea8c4",
   "metadata": {},
   "outputs": [],
   "source": [
    "def get_within_class(centered_classes):\n",
    "    Sw = np.zeros((10304, 10304))\n",
    "    for centered_class in centered_classes:\n",
    "        mat = np.array(centered_class)\n",
    "        Sw += np.dot(np.transpose(mat), mat)\n",
    "    Sw_inverse = sp.linalg.pinv(Sw)\n",
    "    return Sw_inverse"
   ]
  },
  {
   "cell_type": "markdown",
   "id": "f8894138-c07e-4c93-90f9-68f221c4ac7c",
   "metadata": {},
   "source": [
    "Calculate the eigenvalues and eigenvectors for the inverse of Sw multiplied by Sb"
   ]
  },
  {
   "cell_type": "code",
   "execution_count": 9,
   "id": "a7171505-8878-467a-a092-8f4ac182d574",
   "metadata": {},
   "outputs": [],
   "source": [
    "def get_eigens(Sw_inverse, Sb):\n",
    "    eigenvalues, eigenvectors = np.linalg.eig(np.dot(Sw_inverse, Sb))\n",
    "    return eigenvalues, eigenvectors"
   ]
  },
  {
   "cell_type": "markdown",
   "id": "fcdd48d7-61b5-410d-8c2e-ba2d84f1e463",
   "metadata": {},
   "source": [
    "Calculate the 39 most significant eigenvectors (Corresponding to the most significant eigenvalues)"
   ]
  },
  {
   "cell_type": "code",
   "execution_count": 10,
   "id": "4d1df5a2-c7ba-4a0d-b54d-ba672b23926b",
   "metadata": {},
   "outputs": [],
   "source": [
    "def get_U(eigenvalues, eigenvectors):\n",
    "    sorted_indecies = np.argsort(eigenvalues)[::-1]\n",
    "    sorted_eigen_vectors = eigenvectors[:,sorted_indecies]\n",
    "    U = np.real(sorted_eigen_vectors[:,:39])\n",
    "    return U"
   ]
  },
  {
   "cell_type": "markdown",
   "id": "4decca28-5326-4487-8cdc-43764aab1175",
   "metadata": {},
   "source": [
    "# Driver Code"
   ]
  },
  {
   "cell_type": "code",
   "execution_count": 11,
   "id": "eb2d6f74-b506-4c35-b10c-4ce3d96b7606",
   "metadata": {},
   "outputs": [],
   "source": [
    "split_data = split_data(training_data)"
   ]
  },
  {
   "cell_type": "code",
   "execution_count": 12,
   "id": "fabb2285-4f1e-4096-ad55-d0c3dfa54fc6",
   "metadata": {},
   "outputs": [],
   "source": [
    "class_means = get_class_means(split_data)"
   ]
  },
  {
   "cell_type": "code",
   "execution_count": 13,
   "id": "07286530-2d69-4e00-a0ab-43c4274e5953",
   "metadata": {},
   "outputs": [],
   "source": [
    "overall_mean = get_overall_mean(training_data)"
   ]
  },
  {
   "cell_type": "code",
   "execution_count": 14,
   "id": "71620aaa-3ad1-410c-8805-12896c250a96",
   "metadata": {},
   "outputs": [],
   "source": [
    "centered_classes = get_centered_classes(split_data, class_means)"
   ]
  },
  {
   "cell_type": "code",
   "execution_count": 15,
   "id": "0ba002b4-63bb-4002-9573-2a3fbfcb5649",
   "metadata": {},
   "outputs": [],
   "source": [
    "Sb = get_between_class(class_means, overall_mean)"
   ]
  },
  {
   "cell_type": "code",
   "execution_count": 17,
   "id": "f193356c-8804-4586-93b3-d223b0c5c853",
   "metadata": {},
   "outputs": [],
   "source": [
    "Sw_inverse = get_within_class(centered_classes)"
   ]
  },
  {
   "cell_type": "code",
   "execution_count": 18,
   "id": "ec99821e-bf3e-417c-aaf9-f8971bcbe14d",
   "metadata": {},
   "outputs": [],
   "source": [
    "eigenvalues, eigenvectors = get_eigens(Sw_inverse, Sb)"
   ]
  },
  {
   "cell_type": "code",
   "execution_count": 19,
   "id": "354ce3c2-4b77-40f9-9617-d0abf9b4c114",
   "metadata": {},
   "outputs": [],
   "source": [
    "projection_matrix = get_U(eigenvalues, eigenvectors)"
   ]
  },
  {
   "cell_type": "markdown",
   "id": "34bccc62-0883-44a8-ac63-38c55802fc29",
   "metadata": {},
   "source": [
    "# Projection and Classification"
   ]
  },
  {
   "cell_type": "code",
   "execution_count": 20,
   "id": "cd91834b-e121-4275-8ded-8f1b2f9bb04b",
   "metadata": {},
   "outputs": [],
   "source": [
    "projected_training_data = np.dot(training_data , projection_matrix)\n",
    "projected_testing_data = np.dot(testing_data , projection_matrix)"
   ]
  },
  {
   "cell_type": "code",
   "execution_count": 21,
   "id": "aae02943-db53-47dd-ba86-9101bda7537b",
   "metadata": {},
   "outputs": [
    {
     "name": "stdout",
     "output_type": "stream",
     "text": [
      "Accuracy =  95.5\n"
     ]
    }
   ],
   "source": [
    "classifier = KNeighborsClassifier(1)\n",
    "classifier.fit(projected_training_data, training_labels)\n",
    "prediction = classifier.predict(projected_testing_data)\n",
    "accuracy = accuracy_score(testing_labels, prediction)\n",
    "\n",
    "print (\"Accuracy = \", accuracy * 100)"
   ]
  },
  {
   "cell_type": "markdown",
   "id": "88f44950",
   "metadata": {},
   "source": [
    "# Bonus"
   ]
  },
  {
   "cell_type": "markdown",
   "id": "bd189e16",
   "metadata": {},
   "source": [
    "### Use RLDA"
   ]
  },
  {
   "cell_type": "code",
   "execution_count": 22,
   "id": "c06699e7",
   "metadata": {},
   "outputs": [
    {
     "name": "stdout",
     "output_type": "stream",
     "text": [
      "Accuracy: 95.0\n"
     ]
    }
   ],
   "source": [
    "from sklearn.discriminant_analysis import LinearDiscriminantAnalysis as LDA\n",
    "from sklearn.metrics import accuracy_score\n",
    "import DatasetSplitter as ds\n",
    "\n",
    "training_data, training_labels, testing_data, testing_labels = ds.splitData()\n",
    "\n",
    "# Create an RLDA classifier with regularization\n",
    "clf = LDA(solver='lsqr', shrinkage='auto')  # 'lsqr' solver for efficiency, 'auto' shrinkage\n",
    "\n",
    "# Train the RLDA model\n",
    "clf.fit(training_data, training_labels)\n",
    "\n",
    "# Make predictions on unseen data\n",
    "predected_labels = clf.predict(testing_data)\n",
    "\n",
    "# Evaluate the model performance (optional)\n",
    "accuracy = accuracy_score(testing_labels, predected_labels)\n",
    "print(\"Accuracy:\", accuracy * 100)"
   ]
  }
 ],
 "metadata": {
  "kernelspec": {
   "display_name": "Python 3 (ipykernel)",
   "language": "python",
   "name": "python3"
  },
  "language_info": {
   "codemirror_mode": {
    "name": "ipython",
    "version": 3
   },
   "file_extension": ".py",
   "mimetype": "text/x-python",
   "name": "python",
   "nbconvert_exporter": "python",
   "pygments_lexer": "ipython3",
   "version": "3.11.6"
  }
 },
 "nbformat": 4,
 "nbformat_minor": 5
}
