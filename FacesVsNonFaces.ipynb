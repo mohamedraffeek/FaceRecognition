{
 "cells": [
  {
   "cell_type": "markdown",
   "metadata": {},
   "source": [
    "# Faces Vs. Non-Faces"
   ]
  },
  {
   "cell_type": "markdown",
   "metadata": {},
   "source": [
    "Load the new dataset"
   ]
  },
  {
   "cell_type": "code",
   "execution_count": 5,
   "metadata": {},
   "outputs": [],
   "source": [
    "import DatasetSplitter\n",
    "\n",
    "training_data_50, training_labels_50, testing_data_50, testing_labels_50 = DatasetSplitter.splitDataNonFaces50()\n",
    "training_data_100, training_labels_100, testing_data_100, testing_labels_100 = DatasetSplitter.splitDataNonFaces100()\n",
    "training_data_200, training_labels_200, testing_data_200, testing_labels_200 = DatasetSplitter.splitDataNonFaces()\n",
    "training_data_400, training_labels_400, testing_data_400, testing_labels_400 = DatasetSplitter.splitDataNonFaces400()"
   ]
  },
  {
   "cell_type": "markdown",
   "metadata": {},
   "source": [
    "# Apply the LDA algorithm for two classes\n",
    "We only use 1 eigenvector, because the number of used eigenvectors = number of classes - 1, where the number of classes = 2 (Faces & Non-Faces)"
   ]
  },
  {
   "cell_type": "code",
   "execution_count": 6,
   "metadata": {},
   "outputs": [],
   "source": [
    "# The following code is the implementation of Linear Discriminant Analysis (LDA) but for 2 classes only \n",
    "# (The Sb matrix is the only difference between this and the code in LDA.ipynb).\n",
    "\n",
    "import numpy as np\n",
    "import scipy as sp\n",
    "from sklearn.metrics import accuracy_score\n",
    "from sklearn.neighbors import KNeighborsClassifier\n",
    "\n",
    "def get_split_data(training_data):\n",
    "    mat = np.array(training_data)\n",
    "    split_data = []\n",
    "    split_data.append(mat[:200])\n",
    "    split_data.append(mat[200:])\n",
    "    return split_data\n",
    "\n",
    "def get_class_means(split_data):\n",
    "    class_means = []\n",
    "    for class_matrix in split_data:\n",
    "        class_means.append(np.mean(class_matrix, axis=0))\n",
    "    return class_means\n",
    "\n",
    "def get_centered_classes(split_data, class_means):\n",
    "    centered_classes = []\n",
    "    for class_matrix, class_mean in zip(split_data, class_means):\n",
    "        centered_class = []\n",
    "        for row in class_matrix:\n",
    "            centered_class.append(row - class_mean)\n",
    "        centered_classes.append(centered_class)\n",
    "    return centered_classes\n",
    "\n",
    "def get_between_class(class_means):\n",
    "    Sb = np.outer((class_means[0] - class_means[1]), np.transpose(class_means[0] - class_means[1]))\n",
    "    return Sb\n",
    "\n",
    "def get_within_class(centered_classes):\n",
    "    Sw = np.zeros((10304, 10304))\n",
    "    for centered_class in centered_classes:\n",
    "        mat = np.array(centered_class)\n",
    "        Sw += np.dot(np.transpose(mat), mat)\n",
    "    Sw_inverse = sp.linalg.pinv(Sw)\n",
    "    return Sw_inverse\n",
    "\n",
    "def get_eigens(Sw_inverse, Sb):\n",
    "    eigenvalues, eigenvectors = np.linalg.eig(np.dot(Sw_inverse, Sb))\n",
    "    return eigenvalues, eigenvectors\n",
    "\n",
    "def get_U(eigenvalues, eigenvectors):\n",
    "    sorted_indecies = np.argsort(eigenvalues)[::-1]\n",
    "    sorted_eigen_vectors = eigenvectors[:,sorted_indecies]\n",
    "    U = np.real(sorted_eigen_vectors[:,:1])\n",
    "    return U"
   ]
  },
  {
   "cell_type": "code",
   "execution_count": 7,
   "metadata": {},
   "outputs": [],
   "source": [
    "def LDA(training_data, training_labels, testing_data, testing_labels):\n",
    "    split_data = get_split_data(training_data)\n",
    "    class_means = get_class_means(split_data)\n",
    "    centered_classes = get_centered_classes(split_data, class_means)\n",
    "    Sb = get_between_class(class_means)\n",
    "    Sw_inverse = get_within_class(centered_classes)\n",
    "    eigenvalues, eigenvectors = get_eigens(Sw_inverse, Sb)\n",
    "    projection_matrix = get_U(eigenvalues, eigenvectors)\n",
    "\n",
    "    projected_training_data = np.dot(training_data , projection_matrix)\n",
    "    projected_testing_data = np.dot(testing_data , projection_matrix)\n",
    "    classifier = KNeighborsClassifier(1)\n",
    "    classifier.fit(projected_training_data, training_labels)\n",
    "    prediction = classifier.predict(projected_testing_data)\n",
    "    accuracy = accuracy_score(testing_labels, prediction)\n",
    "\n",
    "    print (\"Accuracy = \", accuracy * 100)"
   ]
  },
  {
   "cell_type": "markdown",
   "metadata": {},
   "source": [
    "# Using 50 non-face images for training"
   ]
  },
  {
   "cell_type": "code",
   "execution_count": 4,
   "metadata": {},
   "outputs": [
    {
     "name": "stdout",
     "output_type": "stream",
     "text": [
      "Accuracy =  91.25\n"
     ]
    }
   ],
   "source": [
    "LDA(training_data_50, training_labels_50, testing_data_50, testing_labels_50)"
   ]
  },
  {
   "cell_type": "markdown",
   "metadata": {},
   "source": [
    "# Using 100 non-face images for training"
   ]
  },
  {
   "cell_type": "code",
   "execution_count": 5,
   "metadata": {},
   "outputs": [
    {
     "name": "stdout",
     "output_type": "stream",
     "text": [
      "Accuracy =  93.5\n"
     ]
    }
   ],
   "source": [
    "LDA(training_data_100, training_labels_100, testing_data_100, testing_labels_100)"
   ]
  },
  {
   "cell_type": "markdown",
   "metadata": {},
   "source": [
    "# Using 200 non-face images for training"
   ]
  },
  {
   "cell_type": "code",
   "execution_count": 6,
   "metadata": {},
   "outputs": [
    {
     "name": "stdout",
     "output_type": "stream",
     "text": [
      "Accuracy =  89.5\n"
     ]
    }
   ],
   "source": [
    "LDA(training_data_200, training_labels_200, testing_data_200, testing_labels_200)"
   ]
  },
  {
   "cell_type": "markdown",
   "metadata": {},
   "source": [
    "# Using 400 non-face images for training"
   ]
  },
  {
   "cell_type": "code",
   "execution_count": 7,
   "metadata": {},
   "outputs": [
    {
     "name": "stdout",
     "output_type": "stream",
     "text": [
      "Accuracy =  92.75\n"
     ]
    }
   ],
   "source": [
    "LDA(training_data_400, training_labels_400, testing_data_400, testing_labels_400)"
   ]
  },
  {
   "cell_type": "markdown",
   "metadata": {},
   "source": [
    "# Apply the PCA algorithm"
   ]
  },
  {
   "cell_type": "code",
   "execution_count": 8,
   "metadata": {},
   "outputs": [],
   "source": [
    "def covariance(D):\n",
    "    global mean_vector \n",
    "    mean_vector = np.mean(D, axis=0)\n",
    "    # print(mean_vector)\n",
    "    Z = D - mean_vector\n",
    "    cov = (1/len(D)) * (Z.T @ Z) \n",
    "    return cov\n",
    "\n",
    "def PCA(D, alpha, trainingLabels, testingData, testingLabels):\n",
    "    cov = covariance(D)\n",
    "    eigenvalues, eigenvectors = np.linalg.eigh(cov)\n",
    "    \n",
    "    sorted_idx = eigenvalues.argsort()[::-1]  # Sort in descending order\n",
    "    eigenvalues = eigenvalues[sorted_idx]\n",
    "    eigenvectors = eigenvectors[:, sorted_idx]\n",
    "    \n",
    "    trace = np.trace(cov)\n",
    "    c = 0 # Accumulator for sum of eigenvaleus\n",
    "    lastIndex = 0\n",
    "    for index in range(len(eigenvalues)):\n",
    "        c += eigenvalues[index]\n",
    "        if c / trace >= alpha :\n",
    "            lastIndex = index\n",
    "            break\n",
    "    P = eigenvectors[:lastIndex + 1, :]# Projection Matrix\n",
    "    # Project training data (correctly subtract mean before projection)\n",
    "    projectedTrainingData = (D - mean_vector) @ P.T\n",
    "\n",
    "    # Project testing data (correctly subtract mean before projection)\n",
    "    projectedTestingData = (testingData - mean_vector) @ P.T\n",
    "\n",
    "    knn = KNeighborsClassifier(n_neighbors=1)\n",
    "    knn.fit(projectedTrainingData, trainingLabels)\n",
    "\n",
    "    predictedClasses = knn.predict(projectedTestingData)\n",
    "    accuracy = accuracy_score(testingLabels, predictedClasses)\n",
    "\n",
    "    print(f\"Accuracy {100 * (accuracy)}\")"
   ]
  },
  {
   "cell_type": "markdown",
   "metadata": {},
   "source": [
    "# Using 50 non-face images for training"
   ]
  },
  {
   "cell_type": "code",
   "execution_count": 9,
   "metadata": {},
   "outputs": [
    {
     "name": "stdout",
     "output_type": "stream",
     "text": [
      "Accuracy 89.25\n"
     ]
    }
   ],
   "source": [
    "PCA(training_data_50, 0.95, training_labels_50, testing_data_50, testing_labels_50)"
   ]
  },
  {
   "cell_type": "markdown",
   "metadata": {},
   "source": [
    "# Using 100 non-face images for training"
   ]
  },
  {
   "cell_type": "code",
   "execution_count": 10,
   "metadata": {},
   "outputs": [
    {
     "name": "stdout",
     "output_type": "stream",
     "text": [
      "Accuracy 91.0\n"
     ]
    }
   ],
   "source": [
    "PCA(training_data_100, 0.95, training_labels_100, testing_data_100, testing_labels_100)"
   ]
  },
  {
   "cell_type": "markdown",
   "metadata": {},
   "source": [
    "# Using 200 non-face images for training"
   ]
  },
  {
   "cell_type": "code",
   "execution_count": 11,
   "metadata": {},
   "outputs": [
    {
     "name": "stdout",
     "output_type": "stream",
     "text": [
      "Accuracy 92.25\n"
     ]
    }
   ],
   "source": [
    "PCA(training_data_200, 0.95, training_labels_200, testing_data_200, testing_labels_200)"
   ]
  },
  {
   "cell_type": "markdown",
   "metadata": {},
   "source": [
    "# Using 400 non-face images for training"
   ]
  },
  {
   "cell_type": "code",
   "execution_count": 12,
   "metadata": {},
   "outputs": [
    {
     "name": "stdout",
     "output_type": "stream",
     "text": [
      "Accuracy 92.75\n"
     ]
    }
   ],
   "source": [
    "PCA(training_data_400, 0.95, training_labels_400, testing_data_400, testing_labels_400)"
   ]
  }
 ],
 "metadata": {
  "kernelspec": {
   "display_name": "Python 3",
   "language": "python",
   "name": "python3"
  },
  "language_info": {
   "codemirror_mode": {
    "name": "ipython",
    "version": 3
   },
   "file_extension": ".py",
   "mimetype": "text/x-python",
   "name": "python",
   "nbconvert_exporter": "python",
   "pygments_lexer": "ipython3",
   "version": "3.11.0"
  }
 },
 "nbformat": 4,
 "nbformat_minor": 2
}
