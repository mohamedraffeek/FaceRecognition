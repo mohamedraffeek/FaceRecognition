{
 "cells": [
  {
   "cell_type": "markdown",
   "metadata": {},
   "source": [
    "# Faces Vs. Non-Faces"
   ]
  },
  {
   "cell_type": "markdown",
   "metadata": {},
   "source": [
    "Load the new dataset"
   ]
  },
  {
   "cell_type": "code",
   "execution_count": 1,
   "metadata": {},
   "outputs": [],
   "source": [
    "import DatasetSplitter\n",
    "\n",
    "training_data_50, training_labels_50, testing_data_50, testing_labels_50 = DatasetSplitter.splitDataNonFaces50()\n",
    "training_data_100, training_labels_100, testing_data_100, testing_labels_100 = DatasetSplitter.splitDataNonFaces100()\n",
    "training_data_200, training_labels_200, testing_data_200, testing_labels_200 = DatasetSplitter.splitDataNonFaces()\n",
    "training_data_400, training_labels_400, testing_data_400, testing_labels_400 = DatasetSplitter.splitDataNonFaces400()"
   ]
  },
  {
   "cell_type": "markdown",
   "metadata": {},
   "source": [
    "# Apply the LDA algorithm for two classes\n",
    "We only use 1 eigenvector, because the number of used eigenvectors = number of classes - 1, where the number of classes = 2 (Faces & Non-Faces)"
   ]
  },
  {
   "cell_type": "code",
   "execution_count": 2,
   "metadata": {},
   "outputs": [],
   "source": [
    "# The following code is the implementation of Linear Discriminant Analysis (LDA) but for 2 classes only \n",
    "# (The Sb matrix is the only difference between this and the code in LDA.ipynb).\n",
    "\n",
    "import numpy as np\n",
    "import scipy as sp\n",
    "from sklearn.metrics import accuracy_score\n",
    "from sklearn.neighbors import KNeighborsClassifier\n",
    "\n",
    "def get_split_data(training_data):\n",
    "    mat = np.array(training_data)\n",
    "    split_data = []\n",
    "    split_data.append(mat[:200])\n",
    "    split_data.append(mat[200:])\n",
    "    return split_data\n",
    "\n",
    "def get_class_means(split_data):\n",
    "    class_means = []\n",
    "    for class_matrix in split_data:\n",
    "        class_means.append(np.mean(class_matrix, axis=0))\n",
    "    return class_means\n",
    "\n",
    "def get_centered_classes(split_data, class_means):\n",
    "    centered_classes = []\n",
    "    for class_matrix, class_mean in zip(split_data, class_means):\n",
    "        centered_class = []\n",
    "        for row in class_matrix:\n",
    "            centered_class.append(row - class_mean)\n",
    "        centered_classes.append(centered_class)\n",
    "    return centered_classes\n",
    "\n",
    "def get_between_class(class_means):\n",
    "    Sb = np.outer((class_means[0] - class_means[1]), np.transpose(class_means[0] - class_means[1]))\n",
    "    return Sb\n",
    "\n",
    "def get_within_class(centered_classes):\n",
    "    Sw = np.zeros((10304, 10304))\n",
    "    for centered_class in centered_classes:\n",
    "        mat = np.array(centered_class)\n",
    "        Sw += np.dot(np.transpose(mat), mat)\n",
    "    Sw_inverse = sp.linalg.pinv(Sw)\n",
    "    return Sw_inverse\n",
    "\n",
    "def get_eigens(Sw_inverse, Sb):\n",
    "    eigenvalues, eigenvectors = np.linalg.eig(np.dot(Sw_inverse, Sb))\n",
    "    return eigenvalues, eigenvectors\n",
    "\n",
    "def get_U(eigenvalues, eigenvectors):\n",
    "    sorted_indecies = np.argsort(eigenvalues)[::-1]\n",
    "    sorted_eigen_vectors = eigenvectors[:,sorted_indecies]\n",
    "    U = np.real(sorted_eigen_vectors[:,:1])\n",
    "    return U"
   ]
  },
  {
   "cell_type": "code",
   "execution_count": 3,
   "metadata": {},
   "outputs": [],
   "source": [
    "def LDA(training_data, training_labels, testing_data, testing_labels):\n",
    "    split_data = get_split_data(training_data)\n",
    "    class_means = get_class_means(split_data)\n",
    "    centered_classes = get_centered_classes(split_data, class_means)\n",
    "    Sb = get_between_class(class_means)\n",
    "    Sw_inverse = get_within_class(centered_classes)\n",
    "    eigenvalues, eigenvectors = get_eigens(Sw_inverse, Sb)\n",
    "    projection_matrix = get_U(eigenvalues, eigenvectors)\n",
    "\n",
    "    projected_training_data = np.dot(training_data , projection_matrix)\n",
    "    projected_testing_data = np.dot(testing_data , projection_matrix)\n",
    "    classifier = KNeighborsClassifier(1)\n",
    "    classifier.fit(projected_training_data, training_labels)\n",
    "    prediction = classifier.predict(projected_testing_data)\n",
    "    accuracy = accuracy_score(testing_labels, prediction)\n",
    "\n",
    "    print (\"Accuracy = \", accuracy * 100)\n"
   ]
  },
  {
   "cell_type": "markdown",
   "metadata": {},
   "source": [
    "# Using 50 non-face images for training"
   ]
  },
  {
   "cell_type": "code",
   "execution_count": 4,
   "metadata": {},
   "outputs": [
    {
     "name": "stdout",
     "output_type": "stream",
     "text": [
      "Accuracy =  91.25\n"
     ]
    }
   ],
   "source": [
    "LDA(training_data_50, training_labels_50, testing_data_50, testing_labels_50)"
   ]
  },
  {
   "cell_type": "markdown",
   "metadata": {},
   "source": [
    "# Using 100 non-face images for training"
   ]
  },
  {
   "cell_type": "code",
   "execution_count": 5,
   "metadata": {},
   "outputs": [
    {
     "name": "stdout",
     "output_type": "stream",
     "text": [
      "Accuracy =  93.5\n"
     ]
    }
   ],
   "source": [
    "LDA(training_data_100, training_labels_100, testing_data_100, testing_labels_100)"
   ]
  },
  {
   "cell_type": "markdown",
   "metadata": {},
   "source": [
    "# Using 200 non-face images for training"
   ]
  },
  {
   "cell_type": "code",
   "execution_count": 6,
   "metadata": {},
   "outputs": [
    {
     "name": "stdout",
     "output_type": "stream",
     "text": [
      "Accuracy =  89.5\n"
     ]
    }
   ],
   "source": [
    "LDA(training_data_200, training_labels_200, testing_data_200, testing_labels_200)"
   ]
  },
  {
   "cell_type": "markdown",
   "metadata": {},
   "source": [
    "# Using 400 non-face images for training"
   ]
  },
  {
   "cell_type": "code",
   "execution_count": 7,
   "metadata": {},
   "outputs": [
    {
     "name": "stdout",
     "output_type": "stream",
     "text": [
      "Accuracy =  92.75\n"
     ]
    }
   ],
   "source": [
    "LDA(training_data_400, training_labels_400, testing_data_400, testing_labels_400)"
   ]
  }
 ],
 "metadata": {
  "kernelspec": {
   "display_name": "Python 3",
   "language": "python",
   "name": "python3"
  },
  "language_info": {
   "codemirror_mode": {
    "name": "ipython",
    "version": 3
   },
   "file_extension": ".py",
   "mimetype": "text/x-python",
   "name": "python",
   "nbconvert_exporter": "python",
   "pygments_lexer": "ipython3",
   "version": "3.11.0"
  }
 },
 "nbformat": 4,
 "nbformat_minor": 2
}
