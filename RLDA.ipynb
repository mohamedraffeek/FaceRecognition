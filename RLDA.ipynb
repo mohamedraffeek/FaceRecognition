{
 "cells": [
  {
   "cell_type": "code",
   "execution_count": 1,
   "metadata": {},
   "outputs": [
    {
     "name": "stdout",
     "output_type": "stream",
     "text": [
      "Accuracy: 95.0\n"
     ]
    }
   ],
   "source": [
    "from sklearn.discriminant_analysis import LinearDiscriminantAnalysis as LDA\n",
    "from sklearn.metrics import accuracy_score\n",
    "import DatasetSplitter as ds\n",
    "\n",
    "training_data, training_labels, testing_data, testing_labels = ds.splitData()\n",
    "\n",
    "# Create an RLDA classifier with regularization\n",
    "clf = LDA(solver='lsqr', shrinkage='auto')  # 'lsqr' solver for efficiency, 'auto' shrinkage\n",
    "\n",
    "# Train the RLDA model\n",
    "clf.fit(training_data, training_labels)\n",
    "\n",
    "# Make predictions on unseen data\n",
    "predected_labels = clf.predict(testing_data)\n",
    "\n",
    "# Evaluate the model performance (optional)\n",
    "accuracy = accuracy_score(testing_labels, predected_labels)\n",
    "print(\"Accuracy:\", accuracy * 100)"
   ]
  }
 ],
 "metadata": {
  "kernelspec": {
   "display_name": "Python 3",
   "language": "python",
   "name": "python3"
  },
  "language_info": {
   "codemirror_mode": {
    "name": "ipython",
    "version": 3
   },
   "file_extension": ".py",
   "mimetype": "text/x-python",
   "name": "python",
   "nbconvert_exporter": "python",
   "pygments_lexer": "ipython3",
   "version": "3.12.1"
  }
 },
 "nbformat": 4,
 "nbformat_minor": 2
}
