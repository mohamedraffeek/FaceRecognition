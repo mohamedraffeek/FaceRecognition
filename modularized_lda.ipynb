{
 "cells": [
  {
   "cell_type": "code",
   "execution_count": 1,
   "metadata": {},
   "outputs": [],
   "source": [
    "import numpy as np\n",
    "import scipy as sp\n",
    "from sklearn.metrics import accuracy_score\n",
    "from sklearn.neighbors import KNeighborsClassifier\n",
    "import DatasetSplitter as ds\n",
    "import matplotlib.pyplot as plt\n",
    "\n",
    "training_data, training_labels, testing_data, testing_labels = ds.splitData()"
   ]
  },
  {
   "cell_type": "code",
   "execution_count": 2,
   "metadata": {},
   "outputs": [],
   "source": [
    "def split_data(training_data):\n",
    "    mat = np.array(training_data)\n",
    "    return np.split(mat, indices_or_sections=40)"
   ]
  },
  {
   "cell_type": "code",
   "execution_count": 3,
   "metadata": {},
   "outputs": [],
   "source": [
    "def get_class_means(split_data):\n",
    "    return np.mean(split_data, axis=1)"
   ]
  },
  {
   "cell_type": "code",
   "execution_count": 4,
   "metadata": {},
   "outputs": [],
   "source": [
    "def get_overall_mean(training_data):\n",
    "    return np.mean(training_data, axis=0)"
   ]
  },
  {
   "cell_type": "code",
   "execution_count": 5,
   "metadata": {},
   "outputs": [],
   "source": [
    "def get_centered_classes(split_data, class_means):\n",
    "    centered_classes = []\n",
    "    for class_matrix, class_mean in zip(split_data, class_means):\n",
    "        centered_class = []\n",
    "        for row in class_matrix:\n",
    "            centered_class.append(row - class_mean)\n",
    "        centered_classes.append(centered_class)\n",
    "    return centered_classes"
   ]
  },
  {
   "cell_type": "code",
   "execution_count": 6,
   "metadata": {},
   "outputs": [],
   "source": [
    "def get_between_class(class_means, overall_mean):\n",
    "    Sb = np.zeros((10304, 10304))\n",
    "    for class_mean in class_means:\n",
    "        Sb += 5 * np.outer(class_mean - overall_mean, class_mean - overall_mean)\n",
    "    return Sb"
   ]
  },
  {
   "cell_type": "code",
   "execution_count": 7,
   "metadata": {},
   "outputs": [],
   "source": [
    "def get_within_class(centered_classes):\n",
    "    Sw = np.zeros((10304, 10304))\n",
    "    for centered_class in centered_classes:\n",
    "        mat = np.array(centered_class)\n",
    "        Sw += np.dot(np.transpose(mat), mat)\n",
    "    Sw_inverse = sp.linalg.pinv(Sw)\n",
    "    return Sw_inverse"
   ]
  },
  {
   "cell_type": "code",
   "execution_count": 8,
   "metadata": {},
   "outputs": [],
   "source": [
    "def get_eigens(Sw_inverse, Sb):\n",
    "    eigenvalues, eigenvectors = np.linalg.eig(np.dot(Sw_inverse, Sb))\n",
    "    return eigenvalues, eigenvectors"
   ]
  },
  {
   "cell_type": "code",
   "execution_count": 9,
   "metadata": {},
   "outputs": [],
   "source": [
    "def get_U(eigenvalues, eigenvectors):\n",
    "    sorted_indecies = np.argsort(eigenvalues)[::-1]\n",
    "    sorted_eigen_vectors = eigenvectors[:,sorted_indecies]\n",
    "    U = np.real(sorted_eigen_vectors[:,:39])\n",
    "    return U"
   ]
  },
  {
   "cell_type": "code",
   "execution_count": 10,
   "metadata": {},
   "outputs": [],
   "source": [
    "def LDA(training_data):\n",
    "    splited_data = split_data(training_data)\n",
    "    class_means = get_class_means(splited_data)\n",
    "    overall_mean = get_overall_mean(training_data)\n",
    "    centered_classes = get_centered_classes(splited_data, class_means)\n",
    "    Sb = get_between_class(class_means, overall_mean)\n",
    "    Sw_inverse = get_within_class(centered_classes)\n",
    "    eigenvalues, eigenvectors = get_eigens(Sw_inverse, Sb)\n",
    "    U = get_U(eigenvalues, eigenvectors)\n",
    "    return U"
   ]
  },
  {
   "cell_type": "code",
   "execution_count": 12,
   "metadata": {},
   "outputs": [
    {
     "name": "stdout",
     "output_type": "stream",
     "text": [
      "Accuracy for k = 1 is 95.5\n",
      "Accuracy for k = 3 is 91.0\n",
      "Accuracy for k = 5 is 90.5\n",
      "Accuracy for k = 7 is 89.0\n"
     ]
    }
   ],
   "source": [
    "ks = [1, 3, 5, 7]\n",
    "accuracy_results = np.array([])\n",
    "projection_matrix = LDA(training_data)\n",
    "projected_training_data = np.dot(training_data, projection_matrix)\n",
    "projected_testing_data = np.dot(testing_data, projection_matrix)\n",
    "for k in ks:\n",
    "    knn = KNeighborsClassifier(n_neighbors=k)\n",
    "    knn.fit(projected_training_data, training_labels)\n",
    "    predicted_labels = knn.predict(projected_testing_data)\n",
    "    accuracy = accuracy_score(testing_labels, predicted_labels)\n",
    "    accuracy_results = np.append(accuracy_results, accuracy * 100)\n",
    "    print(\"Accuracy for k = \" + str(k) + \" is \" + str(accuracy * 100))"
   ]
  },
  {
   "cell_type": "code",
   "execution_count": 13,
   "metadata": {},
   "outputs": [
    {
     "data": {
      "image/png": "[encoded data removed]",
      "text/plain": [
       "<Figure size 640x480 with 1 Axes>"
      ]
     },
     "metadata": {},
     "output_type": "display_data"
    }
   ],
   "source": [
    "plt.plot(ks, accuracy_results)\n",
    "plt.xlabel('K (n_neigbour)')\n",
    "plt.ylabel('accuracy')\n",
    "plt.title('LDA - Part 6')\n",
    "plt.show()  "
   ]
  }
 ],
 "metadata": {
  "kernelspec": {
   "display_name": "Python 3",
   "language": "python",
   "name": "python3"
  },
  "language_info": {
   "codemirror_mode": {
    "name": "ipython",
    "version": 3
   },
   "file_extension": ".py",
   "mimetype": "text/x-python",
   "name": "python",
   "nbconvert_exporter": "python",
   "pygments_lexer": "ipython3",
   "version": "3.12.1"
  }
 },
 "nbformat": 4,
 "nbformat_minor": 2
}
